{
 "cells": [
  {
   "cell_type": "markdown",
   "metadata": {},
   "source": [
    "# 📘 word_full_pipeline_v8.1 — 完整自动构建版\n",
    "\n",
    "改进点：\n",
    "- 自动降级 `docutils<0.21` 兼容 Sphinx 8.x；\n",
    "- 自动转义 RST 文件名（AT+ → at_plus 等）；\n",
    "- 自动生成完整 conf.py（含主题、CSS、扩展）；\n",
    "- 自动检测并输出 HTML 构建结果。\n",
    "\n",
    "> 请确保 `AT_Commands.docx` 在同一目录下。"
   ]
  },
  {
   "cell_type": "code",
   "execution_count": 20,
   "metadata": {},
   "outputs": [
    {
     "name": "stdout",
     "output_type": "stream",
     "text": [
      "✅ 所有依赖安装完成。\n"
     ]
    }
   ],
   "source": [
    "!pip install -q python-docx pandas pyyaml jinja2 sphinx sphinx-book-theme sphinx-copybutton \"docutils<0.21\" lxml\n",
    "print('✅ 所有依赖安装完成。')"
   ]
  },
  {
   "cell_type": "code",
   "execution_count": 21,
   "metadata": {},
   "outputs": [
    {
     "name": "stdout",
     "output_type": "stream",
     "text": [
      "✅ 配置完成。\n"
     ]
    }
   ],
   "source": [
    "import os, re, json, shutil, subprocess, sys, datetime, yaml\n",
    "import pandas as pd\n",
    "from docx import Document\n",
    "from docx.oxml.text.paragraph import CT_P\n",
    "from docx.oxml.table import CT_Tbl\n",
    "from jinja2 import Template\n",
    "\n",
    "# === 路径配置 ===\n",
    "IN_WORD = 'AT_Commands.docx'\n",
    "DATA_DIR = 'data'\n",
    "CSV_OUT = os.path.join(DATA_DIR, 'commands.csv')\n",
    "YAML_OUT = os.path.join(DATA_DIR, 'commands.yaml')\n",
    "RST_DIR = os.path.join(DATA_DIR, 'rst_output')\n",
    "\n",
    "DOCS_ROOT = 'docs'\n",
    "LANG = 'zh_CN'\n",
    "SRC_DIR = os.path.join(DOCS_ROOT, LANG, 'source')\n",
    "BUILD_HTML = os.path.join(DOCS_ROOT, LANG, 'build', 'html')\n",
    "LOG_PATH = 'parse_log.txt'\n",
    "\n",
    "os.makedirs(DATA_DIR, exist_ok=True)\n",
    "open(LOG_PATH,'w').close()\n",
    "\n",
    "def log(msg):\n",
    "    with open(LOG_PATH,'a',encoding='utf-8') as f:\n",
    "        f.write(f\"[{datetime.datetime.now().isoformat()}] {msg}\\n\")\n",
    "\n",
    "print('✅ 配置完成。')"
   ]
  },
  {
   "cell_type": "markdown",
   "metadata": {},
   "source": [
    "## Step 1 — Word → CSV（示例）"
   ]
  },
  {
   "cell_type": "code",
   "execution_count": 22,
   "metadata": {},
   "outputs": [
    {
     "name": "stdout",
     "output_type": "stream",
     "text": [
      "✅ 已提取 41 条命令 → data\\commands.csv\n"
     ]
    }
   ],
   "source": [
    "def extract_word_to_csv(docx_path, csv_out):\n",
    "    doc = Document(docx_path)\n",
    "    rows = []\n",
    "    for p in doc.paragraphs:\n",
    "        if p.text.strip().startswith('AT+'):\n",
    "            cmd = p.text.strip()\n",
    "            rows.append({\n",
    "                '命令': cmd,\n",
    "                '命令标题': 'Auto Extracted',\n",
    "                '命令类型': '执行',\n",
    "                '命令格式': cmd,\n",
    "                '示例命令': cmd,\n",
    "                '示例响应': 'OK',\n",
    "                '功能描述': '自动提取的示例命令',\n",
    "                '备注': '',\n",
    "                '参数JSON': '[]'\n",
    "            })\n",
    "    df = pd.DataFrame(rows)\n",
    "    df.to_csv(csv_out,index=False,encoding='utf-8-sig')\n",
    "    print(f'✅ 已提取 {len(df)} 条命令 → {csv_out}')\n",
    "    return df\n",
    "\n",
    "_ = extract_word_to_csv(IN_WORD, CSV_OUT)"
   ]
  },
  {
   "cell_type": "markdown",
   "metadata": {},
   "source": [
    "## Step 2 — CSV → YAML"
   ]
  },
  {
   "cell_type": "code",
   "execution_count": 23,
   "metadata": {},
   "outputs": [
    {
     "name": "stdout",
     "output_type": "stream",
     "text": [
      "✅ 已生成 YAML → data\\commands.yaml\n"
     ]
    }
   ],
   "source": [
    "def csv_to_yaml(csv_path, yaml_path):\n",
    "    df = pd.read_csv(csv_path, dtype=str).fillna('')\n",
    "    data = []\n",
    "    for _, r in df.iterrows():\n",
    "        params = json.loads(r.get('参数JSON','[]'))\n",
    "        data.append({\n",
    "            'command': r['命令'],\n",
    "            'title': r['命令标题'],\n",
    "            'type': [r['命令类型']],\n",
    "            'formats': [r['命令格式']],\n",
    "            'parameters': params,\n",
    "            'examples': [{'cmd': r['示例命令'], 'resp': r['示例响应']}],\n",
    "            'description': r['功能描述'],\n",
    "            'notes': r['备注']\n",
    "        })\n",
    "    with open(yaml_path, 'w', encoding='utf-8') as f:\n",
    "        yaml.safe_dump({'commands': data}, f, allow_unicode=True)\n",
    "    print(f'✅ 已生成 YAML → {yaml_path}')\n",
    "\n",
    "csv_to_yaml(CSV_OUT, YAML_OUT)"
   ]
  },
  {
   "cell_type": "markdown",
   "metadata": {},
   "source": [
    "## Step 3 — YAML → 安全命名 RST（带锚点）"
   ]
  },
  {
   "cell_type": "code",
   "execution_count": 24,
   "metadata": {},
   "outputs": [
    {
     "name": "stdout",
     "output_type": "stream",
     "text": [
      "✅ 已生成 RST → data\\rst_output\n"
     ]
    }
   ],
   "source": [
    "RST_TMPL = Template('''\n",
    ".. _cmd_{{ cmd.command.replace('+','plus') }}:\n",
    "\n",
    "{{ cmd.command }}\n",
    "{{ '=' * cmd.command|length }}\n",
    "\n",
    "**功能描述**\n",
    "   {{ cmd.description }}\n",
    "\n",
    "**示例**\n",
    ".. code-block:: bash\n",
    "\n",
    "   {{ cmd.examples[0]['cmd'] }}\n",
    "   {{ cmd.examples[0]['resp'] }}\n",
    "''')\n",
    "\n",
    "def yaml_to_rst(yaml_path, out_dir):\n",
    "    os.makedirs(out_dir, exist_ok=True)\n",
    "    with open(yaml_path,'r',encoding='utf-8') as f:\n",
    "        data = yaml.safe_load(f)\n",
    "    for c in data['commands']:\n",
    "        safe_name = c['command'].replace('+','plus').replace('?','q').replace('=','eq')\n",
    "        rst = RST_TMPL.render(cmd=c)\n",
    "        with open(os.path.join(out_dir,f'{safe_name}.rst'),'w',encoding='utf-8') as f:\n",
    "            f.write(rst)\n",
    "    index = ['AT Commands\\n===========\\n','\\n.. toctree::\\n   :maxdepth: 1\\n']\n",
    "    for c in data['commands']:\n",
    "        safe_name = c['command'].replace('+','plus').replace('?','q').replace('=','eq')\n",
    "        index.append(f'   {safe_name}')\n",
    "    with open(os.path.join(out_dir,'index.rst'),'w',encoding='utf-8') as f:\n",
    "        f.write('\\n'.join(index))\n",
    "    print(f'✅ 已生成 RST → {out_dir}')\n",
    "\n",
    "yaml_to_rst(YAML_OUT, RST_DIR)"
   ]
  },
  {
   "cell_type": "markdown",
   "metadata": {},
   "source": [
    "## Step 4 — 初始化 Sphinx（带主题与 conf.py）"
   ]
  },
  {
   "cell_type": "code",
   "execution_count": 25,
   "metadata": {},
   "outputs": [
    {
     "name": "stdout",
     "output_type": "stream",
     "text": [
      "✅ 已创建 conf.py 和 CSS。\n"
     ]
    }
   ],
   "source": [
    "if os.path.exists(DOCS_ROOT): shutil.rmtree(DOCS_ROOT)\n",
    "os.makedirs(SRC_DIR, exist_ok=True)\n",
    "shutil.copytree(RST_DIR, SRC_DIR, dirs_exist_ok=True)\n",
    "\n",
    "conf_text = '''\n",
    "project = 'AT Command Manual'\n",
    "master_doc = 'index'\n",
    "language = 'zh_CN'\n",
    "extensions = ['sphinx.ext.autosectionlabel','sphinx_copybutton']\n",
    "html_theme = 'sphinx_book_theme'\n",
    "html_static_path = ['_static']\n",
    "def setup(app):\n",
    "    app.add_css_file('custom.css')\n",
    "'''\n",
    "os.makedirs(os.path.join(SRC_DIR,'_static'),exist_ok=True)\n",
    "with open(os.path.join(SRC_DIR,'conf.py'),'w',encoding='utf-8') as f:\n",
    "    f.write(conf_text)\n",
    "with open(os.path.join(SRC_DIR,'_static','custom.css'),'w',encoding='utf-8') as f:\n",
    "    f.write('pre {background:#f8f9fa;border-radius:6px;padding:8px;}')\n",
    "print('✅ 已创建 conf.py 和 CSS。')"
   ]
  },
  {
   "cell_type": "markdown",
   "metadata": {},
   "source": [
    "## Step 5 — 构建 HTML（验证 index.html）"
   ]
  },
  {
   "cell_type": "code",
   "execution_count": 28,
   "metadata": {},
   "outputs": [
    {
     "name": "stdout",
     "output_type": "stream",
     "text": [
      "📦 开始构建 HTML...\n",
      "\u001b[01mRunning Sphinx v8.2.3\u001b[39;49;00m\n",
      "\u001b[01mloading translations [zh_CN]... \u001b[39;49;00mdone\n",
      "\u001b[01mloading pickled environment... \u001b[39;49;00mThe configuration has changed (5 options: 'html_permalinks_icon', 'html_sourcelink_suffix', 'html_static_path', 'html_theme_options', 'templates_path')\n",
      "done\n",
      "\u001b[01mbuilding [mo]: \u001b[39;49;00mtargets for 0 po files that are out of date\n",
      "\u001b[01mwriting output... \u001b[39;49;00m\n",
      "\u001b[01mbuilding [html]: \u001b[39;49;00mtargets for 0 source files that are out of date\n",
      "\u001b[01mupdating environment: \u001b[39;49;00m0 added, 0 changed, 0 removed\n",
      "\u001b[01mreading sources... \u001b[39;49;00m\n",
      "\u001b[01mlooking for now-outdated files... \u001b[39;49;00mnone found\n",
      "\u001b[01mno targets are out of date.\u001b[39;49;00m\n",
      "\u001b[01mpreparing documents... \u001b[39;49;00mdone\n",
      "\u001b[01mcopying assets... \u001b[39;49;00m\n",
      "\u001b[01mcopying static files... \u001b[39;49;00m\n",
      "Writing evaluated template result to C:\\Users\\txiab\\Documents\\Git-folder\\Building-docs\\docs-as-code-learning\\pipeline-1009\\docs\\zh_CN\\build\\html\\_static\\basic.css\n",
      "Writing evaluated template result to C:\\Users\\txiab\\Documents\\Git-folder\\Building-docs\\docs-as-code-learning\\pipeline-1009\\docs\\zh_CN\\build\\html\\_static\\documentation_options.js\n",
      "Writing evaluated template result to C:\\Users\\txiab\\Documents\\Git-folder\\Building-docs\\docs-as-code-learning\\pipeline-1009\\docs\\zh_CN\\build\\html\\_static\\language_data.js\n",
      "Writing evaluated template result to C:\\Users\\txiab\\Documents\\Git-folder\\Building-docs\\docs-as-code-learning\\pipeline-1009\\docs\\zh_CN\\build\\html\\_static\\copybutton.js\n",
      "\u001b[01mcopying static files: \u001b[39;49;00mdone\n",
      "\u001b[01mcopying extra files... \u001b[39;49;00m\n",
      "\u001b[01mcopying extra files: \u001b[39;49;00mdone\n",
      "\u001b[01mcopying assets: \u001b[39;49;00mdone\n",
      "\u001b[01mgenerating indices... \u001b[39;49;00mgenindex done\n",
      "\u001b[01mwriting additional pages... \u001b[39;49;00msearch done\n",
      "\u001b[01mdumping search index in Chinese (code: zh)... \u001b[39;49;00mdone\n",
      "\u001b[01mdumping object inventory... \u001b[39;49;00mdone\n",
      "\u001b[01mbuild succeeded.\u001b[39;49;00m\n",
      "\n",
      "The HTML pages are in docs\\zh_CN\\build\\html.\n",
      "\n",
      "✅ 构建成功：docs\\zh_CN\\build\\html\\index.html\n"
     ]
    }
   ],
   "source": [
    "def build_html():\n",
    "    print('📦 开始构建 HTML...')\n",
    "    os.makedirs(BUILD_HTML, exist_ok=True)\n",
    "    cmd = [sys.executable,'-m','sphinx','-b','html',SRC_DIR,BUILD_HTML]\n",
    "    p = subprocess.run(cmd, capture_output=True, text=True, encoding=\"utf-8\", errors=\"ignore\")\n",
    "    print(p.stdout or p.stderr)\n",
    "    index_path = os.path.join(BUILD_HTML,'index.html')\n",
    "    if os.path.exists(index_path):\n",
    "        print(f'✅ 构建成功：{index_path}')\n",
    "    else:\n",
    "        print('❌ 构建失败，请检查日志。')\n",
    "\n",
    "build_html()"
   ]
  },
  {
   "cell_type": "markdown",
   "metadata": {},
   "source": [
    "## Step 6 — 一键运行"
   ]
  },
  {
   "cell_type": "code",
   "execution_count": 27,
   "metadata": {},
   "outputs": [
    {
     "name": "stdout",
     "output_type": "stream",
     "text": [
      "✅ 可执行 run_all(clean=True) 一键生成 HTML。\n"
     ]
    }
   ],
   "source": [
    "def run_all(clean=True):\n",
    "    if clean and os.path.exists(DOCS_ROOT): shutil.rmtree(DOCS_ROOT)\n",
    "    extract_word_to_csv(IN_WORD, CSV_OUT)\n",
    "    csv_to_yaml(CSV_OUT, YAML_OUT)\n",
    "    yaml_to_rst(YAML_OUT, RST_DIR)\n",
    "    os.makedirs(SRC_DIR, exist_ok=True)\n",
    "    shutil.copytree(RST_DIR, SRC_DIR, dirs_exist_ok=True)\n",
    "    build_html()\n",
    "    print('🎯 全流程完成 → docs/zh_CN/build/html/index.html')\n",
    "\n",
    "print('✅ 可执行 run_all(clean=True) 一键生成 HTML。')"
   ]
  }
 ],
 "metadata": {
  "kernelspec": {
   "display_name": "Python 3",
   "name": "python3"
  },
  "language_info": {
   "name": "python"
  }
 },
 "nbformat": 4,
 "nbformat_minor": 5
}

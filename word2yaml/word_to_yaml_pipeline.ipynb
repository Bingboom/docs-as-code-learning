{
 "cells": [
  {
   "cell_type": "markdown",
   "metadata": {},
   "source": [
    "# 📘 Word → CSV → YAML → 文档生成 Pipeline Demo\n",
    "本 Notebook 演示如何将 **非结构化的 Word 文档（AT 命令集）** 转化为结构化数据，最终生成 Markdown 文档。\n",
    "\n",
    "流程：Word → CSV → YAML → Markdown/PDF"
   ]
  },
  {
   "cell_type": "code",
   "execution_count": null,
   "metadata": {},
   "outputs": [],
   "source": [
    "# 安装依赖（首次运行时需要）\n",
    "!pip install python-docx pandas pyyaml jinja2"
   ]
  },
  {
   "cell_type": "markdown",
   "metadata": {},
   "source": [
    "## Step 1. 从 Word 提取表格 → CSV\n",
    "假设 Word 文档里有一张表格：指令 | 描述 | 示例响应。\n",
    "我们用 python-docx 提取并存成 CSV。"
   ]
  },
  {
   "cell_type": "code",
   "execution_count": null,
   "metadata": {},
   "outputs": [],
   "source": [
    "import pandas as pd\n",
    "from docx import Document\n",
    "\n",
    "# 示例：我们假设有个 word 文件 demo.docx\n",
    "# 实际运行时换成你的 Word 文档路径\n",
    "doc = Document()\n",
    "table = doc.add_table(rows=3, cols=3)\n",
    "hdr_cells = table.rows[0].cells\n",
    "hdr_cells[0].text, hdr_cells[1].text, hdr_cells[2].text = '指令', '描述', '示例响应'\n",
    "table.rows[1].cells[0].text, table.rows[1].cells[1].text, table.rows[1].cells[2].text = 'AT+CSQ', '查询信号强度', '+CSQ: 25,0'\n",
    "table.rows[2].cells[0].text, table.rows[2].cells[1].text, table.rows[2].cells[2].text = 'AT+CGATT', '网络附着', '+CGATT: 1'\n",
    "\n",
    "demo_path = \"demo.docx\"\n",
    "doc.save(demo_path)\n",
    "\n",
    "# 重新读取并提取表格\n",
    "doc = Document(demo_path)\n",
    "data = []\n",
    "for table in doc.tables:\n",
    "    keys = None\n",
    "    for i, row in enumerate(table.rows):\n",
    "        text = [cell.text.strip() for cell in row.cells]\n",
    "        if i == 0:\n",
    "            keys = text\n",
    "        else:\n",
    "            data.append(dict(zip(keys, text)))\n",
    "\n",
    "df = pd.DataFrame(data)\n",
    "csv_file = \"commands.csv\"\n",
    "df.to_csv(csv_file, index=False, encoding=\"utf-8\")\n",
    "df"
   ]
  },
  {
   "cell_type": "markdown",
   "metadata": {},
   "source": [
    "## Step 2. 从 CSV 转换为 YAML\n",
    "用 Pandas 读取 CSV，再输出成结构化 YAML。"
   ]
  },
  {
   "cell_type": "code",
   "execution_count": null,
   "metadata": {},
   "outputs": [],
   "source": [
    "import yaml\n",
    "\n",
    "df = pd.read_csv(csv_file)\n",
    "records = df.to_dict(orient=\"records\")\n",
    "\n",
    "yaml_data = {\"product\": \"N706B\", \"version\": \"V1.0\", \"commands\": records}\n",
    "yaml_file = \"commands.yaml\"\n",
    "with open(yaml_file, \"w\", encoding=\"utf-8\") as f:\n",
    "    yaml.dump(yaml_data, f, allow_unicode=True)\n",
    "\n",
    "print(open(yaml_file, encoding=\"utf-8\").read())"
   ]
  },
  {
   "cell_type": "markdown",
   "metadata": {},
   "source": [
    "## Step 3. 用 Jinja2 模板生成 Markdown\n",
    "我们利用结构化的 YAML 数据，统一渲染成 Markdown 文档。"
   ]
  },
  {
   "cell_type": "code",
   "execution_count": null,
   "metadata": {},
   "outputs": [],
   "source": [
    "from jinja2 import Template\n",
    "\n",
    "template_str = \"\"\"\n",
    "# {{ product }} 模块 AT 命令手册 (版本 {{ version }})\n",
    "\n",
    "| 指令   | 描述   | 示例响应 |\n",
    "|--------|--------|----------|\n",
    "{% for c in commands %}| {{ c['指令'] }} | {{ c['描述'] }} | {{ c['示例响应'] }} |\n",
    "{% endfor %}\n",
    "\"\"\"\n",
    "template = Template(template_str)\n",
    "\n",
    "output_md = template.render(**yaml_data)\n",
    "md_file = \"AT_manual.md\"\n",
    "with open(md_file, \"w\", encoding=\"utf-8\") as f:\n",
    "    f.write(output_md)\n",
    "print(output_md)"
   ]
  },
  {
   "cell_type": "markdown",
   "metadata": {},
   "source": [
    "## Step 4. 下一步拓展\n",
    "- 现在你已经能跑通 Word → CSV → YAML → Markdown。\n",
    "- 可以接 Pandoc：\n",
    "  ```bash\n",
    "  pandoc AT_manual.md -o AT_manual.pdf\n",
    "  ```\n",
    "- 或者接 Sphinx / DITA-OT 做大规模文档管理。\n",
    "- 更进一步：在 CI/CD 流水线里，把 Word 自动化转换为结构化数据 → 渲染 → 发布。"
   ]
  }
 ],
 "metadata": {
  "kernelspec": {
   "display_name": "Python 3",
   "language": "python",
   "name": "python3"
  },
  "language_info": {
   "file_extension": ".py",
   "mimetype": "text/x-python",
   "name": "python",
   "version": "3.10"
  }
 },
 "nbformat": 4,
 "nbformat_minor": 5
}
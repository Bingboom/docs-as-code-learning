{
 "cells": [
  {
   "cell_type": "code",
   "execution_count": null,
   "metadata": {
    "vscode": {
     "languageId": "plaintext"
    }
   },
   "outputs": [],
   "source": [
    "# 将手动整理的csv文件转成yaml文件\n",
    "\n",
    "import pandas as pd\n",
    "import yaml\n",
    "\n",
    "df = pd.read_csv(\"at_commands.csv\", dtype=str).fillna(\"\")\n",
    "rows = []\n",
    "for _, r in df.iterrows():\n",
    "    params = [p.strip() for p in r['参数名'].split(';')] if r['参数名'] else []\n",
    "    param_desc = [d.strip() for d in r['参数说明'].split(';')] if r['参数说明'] else []\n",
    "    param_enum = [e.strip() for e in r['参数取值/枚举'].split(';')] if r['参数取值/枚举'] else []\n",
    "    examples = [e.strip() for e in r['示例命令'].split('|')] if r['示例命令'] else []\n",
    "    example_resps = [e.strip() for e in r['示例响应'].split('|')] if r['示例响应'] else []\n",
    "\n",
    "    params_struct = []\n",
    "    for i, pname in enumerate(params):\n",
    "        pdsc = param_desc[i] if i < len(param_desc) else \"\"\n",
    "        penum = param_enum[i] if i < len(param_enum) else \"\"\n",
    "        params_struct.append({\"name\": pname, \"desc\": pdsc, \"enum\": penum})\n",
    "\n",
    "    examples_struct = []\n",
    "    for i, ex in enumerate(examples):\n",
    "        eres = example_resps[i] if i < len(example_resps) else \"\"\n",
    "        examples_struct.append({\"cmd\": ex, \"resp\": eres})\n",
    "\n",
    "    cmdobj = {\n",
    "        \"command\": r['命令'],\n",
    "        \"title\": r['命令标题'],\n",
    "        \"types\": [t.strip() for t in r['命令类型'].split(';')] if r['命令类型'] else [],\n",
    "        \"formats\": [f.strip() for f in r['命令格式'].split('|')] if r['命令格式'] else [],\n",
    "        \"responses\": [f.strip() for f in r['响应格式'].split('|')] if r['响应格式'] else [],\n",
    "        \"parameters\": params_struct,\n",
    "        \"examples\": examples_struct,\n",
    "        \"description\": r['功能描述'],\n",
    "        \"notes\": r['错误/注意'],\n",
    "        \"remarks\": r.get('备注', \"\")\n",
    "    }\n",
    "    rows.append(cmdobj)\n",
    "\n",
    "# 导出为 YAML\n",
    "with open(\"at_commands.yaml\", \"w\", encoding=\"utf-8\") as f:\n",
    "    yaml.safe_dump({\"commands\": rows}, f, allow_unicode=True)\n"
   ]
  }
 ],
 "metadata": {
  "language_info": {
   "name": "python"
  }
 },
 "nbformat": 4,
 "nbformat_minor": 2
}

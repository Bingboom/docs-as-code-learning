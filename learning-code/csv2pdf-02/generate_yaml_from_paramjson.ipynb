{
  "cells": [
    {
      "cell_type": "markdown",
      "metadata": {},
      "source": [
        "# ✅ generate_at_docs_V4 优化版\n",
        "- 支持新字段 `参数json` → 自动构建 YAML 中的 `参数`\n",
        "- CSV 输入中应有字段：`参数json`，格式如 `{ \"<name>\": {\"__desc__\": \"desc\", ...}, ... }`"
      ]
    },
    {
      "cell_type": "code",
      "execution_count": 1,
      "metadata": {},
      "outputs": [
        {
          "name": "stdout",
          "output_type": "stream",
          "text": [
            "Requirement already satisfied: pandas in c:\\users\\txiab\\documents\\git-folder\\building-docs\\docs-as-code-learning\\.venv\\lib\\site-packages (2.3.3)\n",
            "Requirement already satisfied: jinja2 in c:\\users\\txiab\\documents\\git-folder\\building-docs\\docs-as-code-learning\\.venv\\lib\\site-packages (3.1.6)\n",
            "Requirement already satisfied: ruamel.yaml in c:\\users\\txiab\\documents\\git-folder\\building-docs\\docs-as-code-learning\\.venv\\lib\\site-packages (0.18.15)\n",
            "Requirement already satisfied: sphinx in c:\\users\\txiab\\documents\\git-folder\\building-docs\\docs-as-code-learning\\.venv\\lib\\site-packages (8.2.3)\n",
            "Requirement already satisfied: sphinx-rtd-theme in c:\\users\\txiab\\documents\\git-folder\\building-docs\\docs-as-code-learning\\.venv\\lib\\site-packages (3.0.2)\n",
            "Requirement already satisfied: numpy>=1.26.0 in c:\\users\\txiab\\documents\\git-folder\\building-docs\\docs-as-code-learning\\.venv\\lib\\site-packages (from pandas) (2.3.3)\n",
            "Requirement already satisfied: python-dateutil>=2.8.2 in c:\\users\\txiab\\documents\\git-folder\\building-docs\\docs-as-code-learning\\.venv\\lib\\site-packages (from pandas) (2.9.0.post0)\n",
            "Requirement already satisfied: pytz>=2020.1 in c:\\users\\txiab\\documents\\git-folder\\building-docs\\docs-as-code-learning\\.venv\\lib\\site-packages (from pandas) (2025.2)\n",
            "Requirement already satisfied: tzdata>=2022.7 in c:\\users\\txiab\\documents\\git-folder\\building-docs\\docs-as-code-learning\\.venv\\lib\\site-packages (from pandas) (2025.2)\n",
            "Requirement already satisfied: MarkupSafe>=2.0 in c:\\users\\txiab\\documents\\git-folder\\building-docs\\docs-as-code-learning\\.venv\\lib\\site-packages (from jinja2) (3.0.3)\n",
            "Requirement already satisfied: ruamel.yaml.clib>=0.2.7 in c:\\users\\txiab\\documents\\git-folder\\building-docs\\docs-as-code-learning\\.venv\\lib\\site-packages (from ruamel.yaml) (0.2.14)\n",
            "Requirement already satisfied: sphinxcontrib-applehelp>=1.0.7 in c:\\users\\txiab\\documents\\git-folder\\building-docs\\docs-as-code-learning\\.venv\\lib\\site-packages (from sphinx) (2.0.0)\n",
            "Requirement already satisfied: sphinxcontrib-devhelp>=1.0.6 in c:\\users\\txiab\\documents\\git-folder\\building-docs\\docs-as-code-learning\\.venv\\lib\\site-packages (from sphinx) (2.0.0)\n",
            "Requirement already satisfied: sphinxcontrib-htmlhelp>=2.0.6 in c:\\users\\txiab\\documents\\git-folder\\building-docs\\docs-as-code-learning\\.venv\\lib\\site-packages (from sphinx) (2.1.0)\n",
            "Requirement already satisfied: sphinxcontrib-jsmath>=1.0.1 in c:\\users\\txiab\\documents\\git-folder\\building-docs\\docs-as-code-learning\\.venv\\lib\\site-packages (from sphinx) (1.0.1)\n",
            "Requirement already satisfied: sphinxcontrib-qthelp>=1.0.6 in c:\\users\\txiab\\documents\\git-folder\\building-docs\\docs-as-code-learning\\.venv\\lib\\site-packages (from sphinx) (2.0.0)\n",
            "Requirement already satisfied: sphinxcontrib-serializinghtml>=1.1.9 in c:\\users\\txiab\\documents\\git-folder\\building-docs\\docs-as-code-learning\\.venv\\lib\\site-packages (from sphinx) (2.0.0)\n",
            "Requirement already satisfied: Pygments>=2.17 in c:\\users\\txiab\\documents\\git-folder\\building-docs\\docs-as-code-learning\\.venv\\lib\\site-packages (from sphinx) (2.19.2)\n",
            "Requirement already satisfied: docutils<0.22,>=0.20 in c:\\users\\txiab\\documents\\git-folder\\building-docs\\docs-as-code-learning\\.venv\\lib\\site-packages (from sphinx) (0.20.1)\n",
            "Requirement already satisfied: snowballstemmer>=2.2 in c:\\users\\txiab\\documents\\git-folder\\building-docs\\docs-as-code-learning\\.venv\\lib\\site-packages (from sphinx) (3.0.1)\n",
            "Requirement already satisfied: babel>=2.13 in c:\\users\\txiab\\documents\\git-folder\\building-docs\\docs-as-code-learning\\.venv\\lib\\site-packages (from sphinx) (2.17.0)\n",
            "Requirement already satisfied: alabaster>=0.7.14 in c:\\users\\txiab\\documents\\git-folder\\building-docs\\docs-as-code-learning\\.venv\\lib\\site-packages (from sphinx) (1.0.0)\n",
            "Requirement already satisfied: imagesize>=1.3 in c:\\users\\txiab\\documents\\git-folder\\building-docs\\docs-as-code-learning\\.venv\\lib\\site-packages (from sphinx) (1.4.1)\n",
            "Requirement already satisfied: requests>=2.30.0 in c:\\users\\txiab\\documents\\git-folder\\building-docs\\docs-as-code-learning\\.venv\\lib\\site-packages (from sphinx) (2.32.5)\n",
            "Requirement already satisfied: roman-numerals-py>=1.0.0 in c:\\users\\txiab\\documents\\git-folder\\building-docs\\docs-as-code-learning\\.venv\\lib\\site-packages (from sphinx) (3.1.0)\n",
            "Requirement already satisfied: packaging>=23.0 in c:\\users\\txiab\\documents\\git-folder\\building-docs\\docs-as-code-learning\\.venv\\lib\\site-packages (from sphinx) (25.0)\n",
            "Requirement already satisfied: colorama>=0.4.6 in c:\\users\\txiab\\documents\\git-folder\\building-docs\\docs-as-code-learning\\.venv\\lib\\site-packages (from sphinx) (0.4.6)\n",
            "Requirement already satisfied: sphinxcontrib-jquery<5,>=4 in c:\\users\\txiab\\documents\\git-folder\\building-docs\\docs-as-code-learning\\.venv\\lib\\site-packages (from sphinx-rtd-theme) (4.1)\n",
            "Requirement already satisfied: six>=1.5 in c:\\users\\txiab\\documents\\git-folder\\building-docs\\docs-as-code-learning\\.venv\\lib\\site-packages (from python-dateutil>=2.8.2->pandas) (1.17.0)\n",
            "Requirement already satisfied: charset_normalizer<4,>=2 in c:\\users\\txiab\\documents\\git-folder\\building-docs\\docs-as-code-learning\\.venv\\lib\\site-packages (from requests>=2.30.0->sphinx) (3.4.3)\n",
            "Requirement already satisfied: idna<4,>=2.5 in c:\\users\\txiab\\documents\\git-folder\\building-docs\\docs-as-code-learning\\.venv\\lib\\site-packages (from requests>=2.30.0->sphinx) (3.10)\n",
            "Requirement already satisfied: urllib3<3,>=1.21.1 in c:\\users\\txiab\\documents\\git-folder\\building-docs\\docs-as-code-learning\\.venv\\lib\\site-packages (from requests>=2.30.0->sphinx) (2.5.0)\n",
            "Requirement already satisfied: certifi>=2017.4.17 in c:\\users\\txiab\\documents\\git-folder\\building-docs\\docs-as-code-learning\\.venv\\lib\\site-packages (from requests>=2.30.0->sphinx) (2025.10.5)\n"
          ]
        }
      ],
      "source": [
        "!pip install pandas jinja2 ruamel.yaml sphinx sphinx-rtd-theme"
      ]
    },
    {
      "cell_type": "code",
      "execution_count": 2,
      "metadata": {},
      "outputs": [],
      "source": [
        "import os\n",
        "import pandas as pd\n",
        "import json\n",
        "from ruamel.yaml import YAML\n",
        "from jinja2 import Environment"
      ]
    },
    {
      "cell_type": "code",
      "execution_count": 3,
      "metadata": {},
      "outputs": [],
      "source": [
        "# 读取 CSV\n",
        "CSV_INPUT = 'at_commands_with_json.csv'  # 替换为你自己的文件名\n",
        "df = pd.read_csv(CSV_INPUT, encoding='utf-8')\n",
        "\n",
        "def parse_paramjson(raw):\n",
        "    try:\n",
        "        obj = json.loads(raw)\n",
        "        out = []\n",
        "        for key, val in obj.items():\n",
        "            desc = val.get('__desc__', '')\n",
        "            valmap = {k: v for k, v in val.items() if k != '__desc__'}\n",
        "            out.append({\"name\": key, \"desc\": desc, \"valmap\": valmap})\n",
        "        return out\n",
        "    except Exception as e:\n",
        "        print(f\"解析参数json失败: {e}\\n{raw}\")\n",
        "        return []\n",
        "\n",
        "df['参数_parsed'] = df['参数json'].apply(parse_paramjson)"
      ]
    },
    {
      "cell_type": "code",
      "execution_count": 4,
      "metadata": {},
      "outputs": [
        {
          "name": "stdout",
          "output_type": "stream",
          "text": [
            "✅ YAML 输出完成\n"
          ]
        }
      ],
      "source": [
        "# 写入 YAML 文件\n",
        "yaml = YAML()\n",
        "yaml.default_flow_style = False\n",
        "\n",
        "OUT_YAML_DIR = 'yaml_output'\n",
        "os.makedirs(OUT_YAML_DIR, exist_ok=True)\n",
        "\n",
        "for idx, row in df.iterrows():\n",
        "    obj = {\n",
        "        '命令': row['命令'],\n",
        "        '命令标题': row['命令标题'],\n",
        "        '命令类型': row['命令类型'],\n",
        "        '响应': row['响应'],\n",
        "        '示例命令': row['示例命令'],\n",
        "        '功能描述': row['功能描述'],\n",
        "        '备注': row['备注'],\n",
        "        '参数': row['参数_parsed']\n",
        "    }\n",
        "    with open(os.path.join(OUT_YAML_DIR, f\"{row['命令']}.yaml\"), 'w', encoding='utf-8') as f:\n",
        "        yaml.dump(obj, f)\n",
        "\n",
        "print(\"✅ YAML 输出完成\")"
      ]
    }
  ],
  "metadata": {
    "kernelspec": {
      "display_name": ".venv",
      "language": "python",
      "name": "python3"
    },
    "language_info": {
      "codemirror_mode": {
        "name": "ipython",
        "version": 3
      },
      "file_extension": ".py",
      "mimetype": "text/x-python",
      "name": "python",
      "nbconvert_exporter": "python",
      "pygments_lexer": "ipython3",
      "version": "3.13.7"
    }
  },
  "nbformat": 4,
  "nbformat_minor": 5
}

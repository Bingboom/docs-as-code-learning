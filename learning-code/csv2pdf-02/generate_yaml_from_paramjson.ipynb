{
  "cells": [
    {
      "cell_type": "markdown",
      "metadata": {},
      "source": [
        "# ✅ generate_at_docs_V4 优化版\n",
        "- 支持新字段 `参数json` → 自动构建 YAML 中的 `参数`\n",
        "- CSV 输入中应有字段：`参数json`，格式如 `{ \"<name>\": {\"__desc__\": \"desc\", ...}, ... }`"
      ]
    },
    {
      "cell_type": "code",
      "execution_count": null,
      "metadata": {},
      "outputs": [],
      "source": [
        "!pip install pandas jinja2 ruamel.yaml sphinx sphinx-rtd-theme"
      ]
    },
    {
      "cell_type": "code",
      "execution_count": null,
      "metadata": {},
      "outputs": [],
      "source": [
        "import os\n",
        "import pandas as pd\n",
        "import json\n",
        "from ruamel.yaml import YAML\n",
        "from jinja2 import Environment"
      ]
    },
    {
      "cell_type": "code",
      "execution_count": null,
      "metadata": {},
      "outputs": [],
      "source": [
        "# 读取 CSV\n",
        "CSV_INPUT = 'at_commands_v5.csv'  # 替换为你自己的文件名\n",
        "df = pd.read_csv(CSV_INPUT, encoding='utf-8')\n",
        "\n",
        "def parse_paramjson(raw):\n",
        "    try:\n",
        "        obj = json.loads(raw)\n",
        "        out = []\n",
        "        for key, val in obj.items():\n",
        "            desc = val.get('__desc__', '')\n",
        "            valmap = {k: v for k, v in val.items() if k != '__desc__'}\n",
        "            out.append({\"name\": key, \"desc\": desc, \"valmap\": valmap})\n",
        "        return out\n",
        "    except Exception as e:\n",
        "        print(f\"解析参数json失败: {e}\\n{raw}\")\n",
        "        return []\n",
        "\n",
        "df['参数_parsed'] = df['参数json'].apply(parse_paramjson)"
      ]
    },
    {
      "cell_type": "code",
      "execution_count": null,
      "metadata": {},
      "outputs": [],
      "source": [
        "# 写入 YAML 文件\n",
        "yaml = YAML()\n",
        "yaml.default_flow_style = False\n",
        "\n",
        "OUT_YAML_DIR = 'yaml_output'\n",
        "os.makedirs(OUT_YAML_DIR, exist_ok=True)\n",
        "\n",
        "for idx, row in df.iterrows():\n",
        "    obj = {\n",
        "        '命令': row['命令'],\n",
        "        '命令标题': row['命令标题'],\n",
        "        '命令类型': row['命令类型'],\n",
        "        '响应': row['响应'],\n",
        "        '示例命令': row['示例命令'],\n",
        "        '功能描述': row['功能描述'],\n",
        "        '备注': row['备注'],\n",
        "        '参数': row['参数_parsed']\n",
        "    }\n",
        "    with open(os.path.join(OUT_YAML_DIR, f\"{row['命令']}.yaml\"), 'w', encoding='utf-8') as f:\n",
        "        yaml.dump(obj, f)\n",
        "\n",
        "print(\"✅ YAML 输出完成\")"
      ]
    }
  ],
  "metadata": {
    "kernelspec": {
      "display_name": ".venv",
      "language": "python",
      "name": "python3"
    },
    "language_info": {
      "name": "python",
      "version": "3.13.7"
    }
  },
  "nbformat": 4,
  "nbformat_minor": 5
}

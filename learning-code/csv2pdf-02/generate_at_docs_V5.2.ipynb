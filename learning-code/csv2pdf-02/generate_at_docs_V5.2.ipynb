{
  "cells": [
    {
      "cell_type": "markdown",
      "metadata": {},
      "source": [
        "# 📄 生成 AT 指令文档（含 自动 conf.py + 参数json 支持）"
      ]
    },
    {
      "cell_type": "code",
      "execution_count": 8,
      "metadata": {},
      "outputs": [
        {
          "name": "stdout",
          "output_type": "stream",
          "text": [
            "Requirement already satisfied: pandas in c:\\users\\txiab\\documents\\git-folder\\building-docs\\docs-as-code-learning\\.venv\\lib\\site-packages (2.3.3)\n",
            "Requirement already satisfied: jinja2 in c:\\users\\txiab\\documents\\git-folder\\building-docs\\docs-as-code-learning\\.venv\\lib\\site-packages (3.1.6)\n",
            "Requirement already satisfied: sphinx in c:\\users\\txiab\\documents\\git-folder\\building-docs\\docs-as-code-learning\\.venv\\lib\\site-packages (8.2.3)\n",
            "Requirement already satisfied: sphinx-rtd-theme in c:\\users\\txiab\\documents\\git-folder\\building-docs\\docs-as-code-learning\\.venv\\lib\\site-packages (3.0.2)\n",
            "Requirement already satisfied: numpy>=1.26.0 in c:\\users\\txiab\\documents\\git-folder\\building-docs\\docs-as-code-learning\\.venv\\lib\\site-packages (from pandas) (2.3.3)\n",
            "Requirement already satisfied: python-dateutil>=2.8.2 in c:\\users\\txiab\\documents\\git-folder\\building-docs\\docs-as-code-learning\\.venv\\lib\\site-packages (from pandas) (2.9.0.post0)\n",
            "Requirement already satisfied: pytz>=2020.1 in c:\\users\\txiab\\documents\\git-folder\\building-docs\\docs-as-code-learning\\.venv\\lib\\site-packages (from pandas) (2025.2)\n",
            "Requirement already satisfied: tzdata>=2022.7 in c:\\users\\txiab\\documents\\git-folder\\building-docs\\docs-as-code-learning\\.venv\\lib\\site-packages (from pandas) (2025.2)\n",
            "Requirement already satisfied: MarkupSafe>=2.0 in c:\\users\\txiab\\documents\\git-folder\\building-docs\\docs-as-code-learning\\.venv\\lib\\site-packages (from jinja2) (3.0.3)\n",
            "Requirement already satisfied: sphinxcontrib-applehelp>=1.0.7 in c:\\users\\txiab\\documents\\git-folder\\building-docs\\docs-as-code-learning\\.venv\\lib\\site-packages (from sphinx) (2.0.0)\n",
            "Requirement already satisfied: sphinxcontrib-devhelp>=1.0.6 in c:\\users\\txiab\\documents\\git-folder\\building-docs\\docs-as-code-learning\\.venv\\lib\\site-packages (from sphinx) (2.0.0)\n",
            "Requirement already satisfied: sphinxcontrib-htmlhelp>=2.0.6 in c:\\users\\txiab\\documents\\git-folder\\building-docs\\docs-as-code-learning\\.venv\\lib\\site-packages (from sphinx) (2.1.0)\n",
            "Requirement already satisfied: sphinxcontrib-jsmath>=1.0.1 in c:\\users\\txiab\\documents\\git-folder\\building-docs\\docs-as-code-learning\\.venv\\lib\\site-packages (from sphinx) (1.0.1)\n",
            "Requirement already satisfied: sphinxcontrib-qthelp>=1.0.6 in c:\\users\\txiab\\documents\\git-folder\\building-docs\\docs-as-code-learning\\.venv\\lib\\site-packages (from sphinx) (2.0.0)\n",
            "Requirement already satisfied: sphinxcontrib-serializinghtml>=1.1.9 in c:\\users\\txiab\\documents\\git-folder\\building-docs\\docs-as-code-learning\\.venv\\lib\\site-packages (from sphinx) (2.0.0)\n",
            "Requirement already satisfied: Pygments>=2.17 in c:\\users\\txiab\\documents\\git-folder\\building-docs\\docs-as-code-learning\\.venv\\lib\\site-packages (from sphinx) (2.19.2)\n",
            "Requirement already satisfied: docutils<0.22,>=0.20 in c:\\users\\txiab\\documents\\git-folder\\building-docs\\docs-as-code-learning\\.venv\\lib\\site-packages (from sphinx) (0.20.1)\n",
            "Requirement already satisfied: snowballstemmer>=2.2 in c:\\users\\txiab\\documents\\git-folder\\building-docs\\docs-as-code-learning\\.venv\\lib\\site-packages (from sphinx) (3.0.1)\n",
            "Requirement already satisfied: babel>=2.13 in c:\\users\\txiab\\documents\\git-folder\\building-docs\\docs-as-code-learning\\.venv\\lib\\site-packages (from sphinx) (2.17.0)\n",
            "Requirement already satisfied: alabaster>=0.7.14 in c:\\users\\txiab\\documents\\git-folder\\building-docs\\docs-as-code-learning\\.venv\\lib\\site-packages (from sphinx) (1.0.0)\n",
            "Requirement already satisfied: imagesize>=1.3 in c:\\users\\txiab\\documents\\git-folder\\building-docs\\docs-as-code-learning\\.venv\\lib\\site-packages (from sphinx) (1.4.1)\n",
            "Requirement already satisfied: requests>=2.30.0 in c:\\users\\txiab\\documents\\git-folder\\building-docs\\docs-as-code-learning\\.venv\\lib\\site-packages (from sphinx) (2.32.5)\n",
            "Requirement already satisfied: roman-numerals-py>=1.0.0 in c:\\users\\txiab\\documents\\git-folder\\building-docs\\docs-as-code-learning\\.venv\\lib\\site-packages (from sphinx) (3.1.0)\n",
            "Requirement already satisfied: packaging>=23.0 in c:\\users\\txiab\\documents\\git-folder\\building-docs\\docs-as-code-learning\\.venv\\lib\\site-packages (from sphinx) (25.0)\n",
            "Requirement already satisfied: colorama>=0.4.6 in c:\\users\\txiab\\documents\\git-folder\\building-docs\\docs-as-code-learning\\.venv\\lib\\site-packages (from sphinx) (0.4.6)\n",
            "Requirement already satisfied: sphinxcontrib-jquery<5,>=4 in c:\\users\\txiab\\documents\\git-folder\\building-docs\\docs-as-code-learning\\.venv\\lib\\site-packages (from sphinx-rtd-theme) (4.1)\n",
            "Requirement already satisfied: six>=1.5 in c:\\users\\txiab\\documents\\git-folder\\building-docs\\docs-as-code-learning\\.venv\\lib\\site-packages (from python-dateutil>=2.8.2->pandas) (1.17.0)\n",
            "Requirement already satisfied: charset_normalizer<4,>=2 in c:\\users\\txiab\\documents\\git-folder\\building-docs\\docs-as-code-learning\\.venv\\lib\\site-packages (from requests>=2.30.0->sphinx) (3.4.3)\n",
            "Requirement already satisfied: idna<4,>=2.5 in c:\\users\\txiab\\documents\\git-folder\\building-docs\\docs-as-code-learning\\.venv\\lib\\site-packages (from requests>=2.30.0->sphinx) (3.10)\n",
            "Requirement already satisfied: urllib3<3,>=1.21.1 in c:\\users\\txiab\\documents\\git-folder\\building-docs\\docs-as-code-learning\\.venv\\lib\\site-packages (from requests>=2.30.0->sphinx) (2.5.0)\n",
            "Requirement already satisfied: certifi>=2017.4.17 in c:\\users\\txiab\\documents\\git-folder\\building-docs\\docs-as-code-learning\\.venv\\lib\\site-packages (from requests>=2.30.0->sphinx) (2025.10.5)\n"
          ]
        }
      ],
      "source": [
        "!pip install pandas jinja2 sphinx sphinx-rtd-theme"
      ]
    },
    {
      "cell_type": "code",
      "execution_count": 9,
      "metadata": {},
      "outputs": [],
      "source": [
        "import os\n",
        "import pandas as pd\n",
        "import json\n",
        "from jinja2 import Environment\n",
        "from collections import defaultdict"
      ]
    },
    {
      "cell_type": "code",
      "execution_count": 10,
      "metadata": {},
      "outputs": [
        {
          "name": "stdout",
          "output_type": "stream",
          "text": [
            "✅ conf.py 已创建\n",
            "✅ CSS 静态文件准备完成\n"
          ]
        }
      ],
      "source": [
        "# ✅ 如果 docs/source/conf.py 不存在，则自动创建它\n",
        "conf_path = \"docs/source/conf.py\"\n",
        "if not os.path.exists(conf_path):\n",
        "    os.makedirs(os.path.dirname(conf_path), exist_ok=True)\n",
        "    with open(conf_path, \"w\", encoding=\"utf-8\") as f:\n",
        "        f.write(\"\"\"\n",
        "import os\n",
        "import sys\n",
        "sys.path.insert(0, os.path.abspath('.'))\n",
        "\n",
        "project = 'AT Command Manual'\n",
        "author = 'Your Name'\n",
        "release = '1.0'\n",
        "\n",
        "extensions = []\n",
        "templates_path = ['_templates']\n",
        "exclude_patterns = []\n",
        "\n",
        "html_theme = 'sphinx_rtd_theme'\n",
        "html_static_path = ['_static']\n",
        "\n",
        "def setup(app):\n",
        "    app.add_css_file('custom.css')\n",
        "\"\"\")\n",
        "    print(\"✅ conf.py 已创建\")\n",
        "else:\n",
        "    print(\"ℹ️ conf.py 已存在\")\n",
        "\n",
        "# 创建 custom.css in static\n",
        "static_dir = 'docs/source/_static'\n",
        "os.makedirs(static_dir, exist_ok=True)\n",
        "with open(os.path.join(static_dir, 'custom.css'), 'w', encoding='utf-8') as f:\n",
        "    f.write(\"body { font-family: 'Microsoft YaHei', sans-serif; }\")\n",
        "print(\"✅ CSS 静态文件准备完成\")"
      ]
    },
    {
      "cell_type": "code",
      "execution_count": 11,
      "metadata": {},
      "outputs": [],
      "source": [
        "# 读取 CSV 并准备模板\n",
        "CSV_PATH = 'at_commands_with_json.csv'  # 你的 CSV 路径\n",
        "OUTPUT_DIR = 'docs/source'\n",
        "\n",
        "TEMPLATE_STRING = \"\"\".. _cmd-{{ command_name | lower }}:\n",
        "\n",
        "{{ command_name }} — {{ command_title }}\n",
        "{{ '=' * (command_name|length + 3 + command_title|length) }}\n",
        "\n",
        "{{ description or '' }}\n",
        "\n",
        "执行命令\n",
        "^^^^^^^^\n",
        "\n",
        "**命令：**\n",
        "\n",
        "::\n",
        "\n",
        "    {{ command }}\n",
        "\n",
        "**响应：**\n",
        "\n",
        "::\n",
        "\n",
        "{% for line in response.splitlines() %}    {{ line }}\n",
        "{% endfor %}\n",
        "\n",
        "参数\n",
        "^^^^\n",
        "{% if parameters %}\n",
        "{% for name, data in parameters.items() %}\n",
        "-  **{{ name }}**：\n",
        "{% if data.get('__desc__') %}    {{ data['__desc__'] }}\n",
        "{% endif %}\n",
        "{% for key, value in data.items() if key != '__desc__' %}\n",
        "    - {{ key }}：{{ value }}\n",
        "{% endfor %}\n",
        "{% endfor %}\n",
        "{% else %}无\n",
        "{% endif %}\n",
        "\n",
        "说明\n",
        "^^^^\n",
        "{{ note or '无' }}\n",
        "\n",
        "示例命令\n",
        "^^^^^^^^\n",
        "\n",
        "::\n",
        "\n",
        "{% for line in example.splitlines() %}    {{ line }}\n",
        "{% endfor %}\n",
        "\"\"\""
      ]
    },
    {
      "cell_type": "code",
      "execution_count": 12,
      "metadata": {},
      "outputs": [
        {
          "name": "stdout",
          "output_type": "stream",
          "text": [
            "✅ 所有 RST 已生成\n"
          ]
        }
      ],
      "source": [
        "df = pd.read_csv(CSV_PATH)\n",
        "df.columns = df.columns.str.strip()\n",
        "env = Environment()\n",
        "template = env.from_string(TEMPLATE_STRING)\n",
        "\n",
        "chapters = df.groupby('章节')\n",
        "chapter_commands = defaultdict(list)\n",
        "chapter_names = []\n",
        "\n",
        "for chap, grp in chapters:\n",
        "    chap_name = str(chap).strip()\n",
        "    chap_dir = os.path.join(OUTPUT_DIR, chap_name)\n",
        "    os.makedirs(chap_dir, exist_ok=True)\n",
        "    chapter_names.append(chap_name)\n",
        "\n",
        "    for _, row in grp.iterrows():\n",
        "        cmd = str(row['命令']).strip()\n",
        "        out_file = os.path.join(chap_dir, f\"{cmd}.rst\")\n",
        "\n",
        "        try:\n",
        "            parameters = json.loads(row.get('参数json', '{}'))\n",
        "        except Exception:\n",
        "            parameters = {}\n",
        "\n",
        "        content = template.render(\n",
        "            command_name=cmd,\n",
        "            command_title=str(row.get('命令标题', '')).strip(),\n",
        "            command_type=str(row.get('命令类型', '')).strip(),\n",
        "            command=str(row.get('命令格式', '')).strip(),\n",
        "            response=str(row.get('响应', '')).strip(),\n",
        "            description=str(row.get('功能描述', '')).strip(),\n",
        "            note=str(row.get('备注', '')).strip(),\n",
        "            parameters=parameters,\n",
        "            example=str(row.get('示例命令', '')).strip()\n",
        "        )\n",
        "\n",
        "        with open(out_file, 'w', encoding='utf-8') as f:\n",
        "            f.write(content)\n",
        "\n",
        "        chapter_commands[chap_name].append(cmd)\n",
        "\n",
        "print(\"✅ 所有 RST 已生成\")"
      ]
    },
    {
      "cell_type": "code",
      "execution_count": 13,
      "metadata": {},
      "outputs": [
        {
          "name": "stdout",
          "output_type": "stream",
          "text": [
            "✅ index.rst 完成\n"
          ]
        }
      ],
      "source": [
        "from jinja2 import Template\n",
        "\n",
        "chapter_tmpl = \"\"\"{{ chapter }}\n",
        "{{ '=' * chapter|length }}\n",
        "\n",
        ".. toctree::\n",
        "   :maxdepth: 1\n",
        "\n",
        "{% for c in cmds %}   {{ c }}\n",
        "{% endfor %}\n",
        "\"\"\"\n",
        "\n",
        "main_tmpl = \"\"\"AT 指令文档\n",
        "===============\n",
        "\n",
        ".. toctree::\n",
        "   :maxdepth: 1\n",
        "   :caption: 章节目录\n",
        "\n",
        "{% for ch in chapter_names %}   {{ ch }}/index\n",
        "{% endfor %}\n",
        "\"\"\"\n",
        "\n",
        "for chap, cmds in chapter_commands.items():\n",
        "    path = os.path.join(OUTPUT_DIR, chap, 'index.rst')\n",
        "    with open(path, 'w', encoding='utf-8') as f:\n",
        "        f.write(Template(chapter_tmpl).render(chapter=chap, cmds=cmds))\n",
        "\n",
        "main_path = os.path.join(OUTPUT_DIR, 'index.rst')\n",
        "with open(main_path, 'w', encoding='utf-8') as f:\n",
        "    f.write(Template(main_tmpl).render(chapter_names=chapter_names))\n",
        "\n",
        "print(\"✅ index.rst 完成\")"
      ]
    },
    {
      "cell_type": "code",
      "execution_count": 14,
      "metadata": {},
      "outputs": [
        {
          "name": "stdout",
          "output_type": "stream",
          "text": [
            "\u001b[01mRunning Sphinx v8.2.3\u001b[39;49;00m\n",
            "\u001b[01mloading translations [en]... \u001b[39;49;00mdone\n",
            "\u001b[01mmaking output directory... \u001b[39;49;00mdone\n",
            "\u001b[01mbuilding [mo]: \u001b[39;49;00mtargets for 0 po files that are out of date\n",
            "\u001b[01mwriting output... \u001b[39;49;00m\n",
            "\u001b[01mbuilding [html]: \u001b[39;49;00mtargets for 5 source files that are out of date\n",
            "\u001b[01mupdating environment: \u001b[39;49;00m[new config] 5 added, 0 changed, 0 removed\n",
            "\u001b[2K\u001b[01mreading sources... \u001b[39;49;00m[ 20%] \u001b[35m1/ATI\u001b[39;49;00m\n",
            "\u001b[2K\u001b[01mreading sources... \u001b[39;49;00m[ 40%] \u001b[35m1/index\u001b[39;49;00m\n",
            "\u001b[2K\u001b[01mreading sources... \u001b[39;49;00m[ 60%] \u001b[35m2/AT+CSMS\u001b[39;49;00m\n",
            "\u001b[2K\u001b[01mreading sources... \u001b[39;49;00m[ 80%] \u001b[35m2/index\u001b[39;49;00m\n",
            "\u001b[2K\u001b[01mreading sources... \u001b[39;49;00m[100%] \u001b[35mindex\u001b[39;49;00m\n",
            "\n",
            "\u001b[01mlooking for now-outdated files... \u001b[39;49;00mnone found\n",
            "\u001b[01mpickling environment... \u001b[39;49;00mdone\n",
            "\u001b[01mchecking consistency... \u001b[39;49;00mdone\n",
            "\u001b[01mpreparing documents... \u001b[39;49;00mdone\n",
            "\u001b[01mcopying assets... \u001b[39;49;00m\n",
            "\u001b[01mcopying static files... \u001b[39;49;00m\n",
            "Writing evaluated template result to C:\\Users\\txiab\\Documents\\Git-folder\\Building-docs\\docs-as-code-learning\\learning-code\\csv2pdf-02\\docs\\build\\html\\_static\\basic.css\n",
            "Writing evaluated template result to C:\\Users\\txiab\\Documents\\Git-folder\\Building-docs\\docs-as-code-learning\\learning-code\\csv2pdf-02\\docs\\build\\html\\_static\\documentation_options.js\n",
            "Writing evaluated template result to C:\\Users\\txiab\\Documents\\Git-folder\\Building-docs\\docs-as-code-learning\\learning-code\\csv2pdf-02\\docs\\build\\html\\_static\\language_data.js\n",
            "Writing evaluated template result to C:\\Users\\txiab\\Documents\\Git-folder\\Building-docs\\docs-as-code-learning\\learning-code\\csv2pdf-02\\docs\\build\\html\\_static\\js\\versions.js\n",
            "\u001b[01mcopying static files: \u001b[39;49;00mdone\n",
            "\u001b[01mcopying extra files... \u001b[39;49;00m\n",
            "\u001b[01mcopying extra files: \u001b[39;49;00mdone\n",
            "\u001b[01mcopying assets: \u001b[39;49;00mdone\n",
            "\u001b[2K\u001b[01mwriting output... \u001b[39;49;00m[ 20%] \u001b[32m1/ATI\u001b[39;49;00m\n",
            "\u001b[2K\u001b[01mwriting output... \u001b[39;49;00m[ 40%] \u001b[32m1/index\u001b[39;49;00m\n",
            "\u001b[2K\u001b[01mwriting output... \u001b[39;49;00m[ 60%] \u001b[32m2/AT+CSMS\u001b[39;49;00m\n",
            "\u001b[2K\u001b[01mwriting output... \u001b[39;49;00m[ 80%] \u001b[32m2/index\u001b[39;49;00m\n",
            "\u001b[2K\u001b[01mwriting output... \u001b[39;49;00m[100%] \u001b[32mindex\u001b[39;49;00m\n",
            "\n",
            "\u001b[01mgenerating indices... \u001b[39;49;00mgenindex done\n",
            "\u001b[01mwriting additional pages... \u001b[39;49;00msearch done\n",
            "\u001b[01mdumping search index in English (code: en)... \u001b[39;49;00mdone\n",
            "\u001b[01mdumping object inventory... \u001b[39;49;00mdone\n",
            "\u001b[01mbuild succeeded, 2 warnings.\u001b[39;49;00m\n",
            "\n",
            "The HTML pages are in docs\\build\\html.\n",
            "✅ HTML 构建完成，可查看 docs/build/html/index.html\n"
          ]
        },
        {
          "name": "stderr",
          "output_type": "stream",
          "text": [
            "\u001b[91mC:\\Users\\txiab\\Documents\\Git-folder\\Building-docs\\docs-as-code-learning\\learning-code\\csv2pdf-02\\docs\\source\\1\\ATI.rst:4: WARNING: Title underline too short.\n",
            "\n",
            "ATI — 获取模组厂商信息\n",
            "============== [docutils]\u001b[39;49;00m\n",
            "\u001b[91mC:\\Users\\txiab\\Documents\\Git-folder\\Building-docs\\docs-as-code-learning\\learning-code\\csv2pdf-02\\docs\\source\\2\\AT+CSMS.rst:4: WARNING: Title underline too short.\n",
            "\n",
            "AT+CSMS — 选择短信服务\n",
            "================ [docutils]\u001b[39;49;00m\n"
          ]
        }
      ],
      "source": [
        "!sphinx-build -b html docs/source docs/build/html -c docs/source\n",
        "print(\"✅ HTML 构建完成，可查看 docs/build/html/index.html\")"
      ]
    }
  ],
  "metadata": {
    "kernelspec": {
      "display_name": ".venv",
      "language": "python",
      "name": "python3"
    },
    "language_info": {
      "codemirror_mode": {
        "name": "ipython",
        "version": 3
      },
      "file_extension": ".py",
      "mimetype": "text/x-python",
      "name": "python",
      "nbconvert_exporter": "python",
      "pygments_lexer": "ipython3",
      "version": "3.13.7"
    }
  },
  "nbformat": 4,
  "nbformat_minor": 5
}

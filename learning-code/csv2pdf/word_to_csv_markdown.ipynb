{
 "cells": [
  {
   "cell_type": "markdown",
   "metadata": {},
   "source": [
    "# 📘 Word → CSV (Markdown 参数版)\n",
    "\n",
    "此 Notebook 将 Word 命令手册（如 `SimpleAT.docx`）解析为可人工阅读的 CSV。\n",
    "\n",
    "输出的 CSV 字段包括：\n",
    "- 章节、命令、命令标题、命令类型、命令格式、响应、示例命令、功能描述、备注、表数量、顺序、参数\n",
    "\n",
    "其中 `参数` 字段以 Markdown 格式展示，方便人工校对与后续结构化清洗。"
   ]
  },
  {
   "cell_type": "code",
   "execution_count": 1,
   "metadata": {},
   "outputs": [
    {
     "name": "stdout",
     "output_type": "stream",
     "text": [
      "✅ 环境依赖检查完成\n"
     ]
    }
   ],
   "source": [
    "!pip install -q python-docx pandas lxml\n",
    "print(\"✅ 环境依赖检查完成\")"
   ]
  },
  {
   "cell_type": "code",
   "execution_count": 2,
   "metadata": {},
   "outputs": [],
   "source": [
    "import os, re, json, traceback\n",
    "from docx import Document\n",
    "from docx.oxml.text.paragraph import CT_P\n",
    "from docx.oxml.table import CT_Tbl\n",
    "from lxml import etree\n",
    "import pandas as pd"
   ]
  },
  {
   "cell_type": "markdown",
   "metadata": {},
   "source": [
    "## ⚙️ 全局配置"
   ]
  },
  {
   "cell_type": "code",
   "execution_count": 3,
   "metadata": {},
   "outputs": [
    {
     "name": "stdout",
     "output_type": "stream",
     "text": [
      "✅ 配置就绪。输入文件: SimpleAT.docx\n"
     ]
    }
   ],
   "source": [
    "IN_WORD = \"SimpleAT.docx\"  # 输入 Word 文件名\n",
    "CSV_OUT = \"data/at_commands_markdown.csv\"  # 输出 CSV\n",
    "\n",
    "os.makedirs(os.path.dirname(CSV_OUT), exist_ok=True)\n",
    "print(f\"✅ 配置就绪。输入文件: {IN_WORD}\")"
   ]
  },
  {
   "cell_type": "markdown",
   "metadata": {},
   "source": [
    "## 🧩 工具函数定义"
   ]
  },
  {
   "cell_type": "code",
   "execution_count": 4,
   "metadata": {},
   "outputs": [],
   "source": [
    "CMD_LINE_PAT = re.compile(r'^\\s*(AT[\\+\\w\\-]+(?:\\?[=\\w<>,\\s\\-\\+\\.\\:]*?)?)\\s*(?::|：)?\\s*(.*)$', re.I)\n",
    "PARAM_HEADING_PAT = re.compile(r'^\\s*参数(说明|表|信息)?\\s*[:：]?\\s*$', re.I)\n",
    "\n",
    "def is_cmd_heading(text: str) -> bool:\n",
    "    return bool(CMD_LINE_PAT.match(text or \"\"))\n",
    "\n",
    "def is_param_heading(text: str) -> bool:\n",
    "    return bool(PARAM_HEADING_PAT.match(text or \"\"))\n",
    "\n",
    "def iter_ordered_blocks(doc):\n",
    "    body = doc._element.body\n",
    "    tbl_idx = 0\n",
    "    for child in body.iterchildren():\n",
    "        if isinstance(child, CT_P):\n",
    "            text = \"\".join([t.text for t in child.xpath('.//w:t') if t.text]).strip()\n",
    "            yield (\"p\", text)\n",
    "        elif isinstance(child, CT_Tbl):\n",
    "            table_obj = doc.tables[tbl_idx]\n",
    "            tbl_idx += 1\n",
    "            yield (\"tbl\", table_obj)\n",
    "\n",
    "def cell_plain_text(cell):\n",
    "    parts = [p.text.strip() for p in cell.paragraphs if p.text and p.text.strip()]\n",
    "    return \"\\n\".join(parts).strip()\n",
    "\n",
    "def find_nested_tbls_in_cell(cell):\n",
    "    xml_str = cell._tc.xml\n",
    "    root = etree.fromstring(xml_str.encode(\"utf-8\"))\n",
    "    ns = {\"w\": \"http://schemas.openxmlformats.org/wordprocessingml/2006/main\"}\n",
    "    return root.findall(\".//w:tbl\", ns), ns\n",
    "\n",
    "def tbl_rows_as_text(tbl, ns):\n",
    "    rows = []\n",
    "    for r in tbl.findall(\".//w:tr\", ns):\n",
    "        cells = r.findall(\".//w:tc\", ns)\n",
    "        row = [\"\".join(tn.text for tn in c.iterfind(\".//w:t\", ns) if tn.text).strip() for c in cells]\n",
    "        rows.append(row)\n",
    "    return rows\n",
    "\n",
    "def looks_like_header(row):\n",
    "    hdr = \" \".join(row[:3])\n",
    "    return any(k in hdr for k in [\"参数\",\"名称\",\"Name\",\"描述\",\"说明\",\"含义\",\"取值\",\"值\",\"value\",\"meaning\",\"备注\",\"范围\"])\n",
    "\n",
    "def nested_table_to_valmap(rows):\n",
    "    if not rows: return {}\n",
    "    start = 1 if looks_like_header(rows[0]) else 0\n",
    "    kv = {}\n",
    "    for r in rows[start:]:\n",
    "        if not r: continue\n",
    "        key = (r[0] or \"\").strip()\n",
    "        val = \" | \".join([c for c in r[1:] if c and c.strip()]) if len(r) > 1 else \"\"\n",
    "        if key: kv[key] = val\n",
    "    return kv\n",
    "\n",
    "def cell_valmap_from_nested_table(cell):\n",
    "    tbls, ns = find_nested_tbls_in_cell(cell); mapping = {}\n",
    "    for t in tbls:\n",
    "        rows = tbl_rows_as_text(t, ns); mapping.update(nested_table_to_valmap(rows))\n",
    "    return mapping\n",
    "\n",
    "def parse_enum_map_fuzzy(text):\n",
    "    if not text: return {}\n",
    "    segs = re.split(r\"[,，;；\\n]+\", text.strip())\n",
    "    m = {}\n",
    "    for s in segs:\n",
    "        s = s.strip()\n",
    "        if not s: continue\n",
    "        if \":\" in s or \"：\" in s:\n",
    "            k, v = re.split(r\"[:：]\", s, 1); k, v = k.strip(), v.strip()\n",
    "        else:\n",
    "            m2 = re.match(r\"^(\\S+)\\s*(?:->|→|=>|-|—|\\s)\\s*(.+)$\", s)\n",
    "            if m2: k, v = m2.group(1).strip(), m2.group(2).strip()\n",
    "            else: continue\n",
    "        if k: m[k] = v\n",
    "    return m\n",
    "\n",
    "def format_params_markdown(params):\n",
    "    out = []\n",
    "    for p in params:\n",
    "        name = p.get(\"name\", \"\").strip()\n",
    "        desc = p.get(\"desc\", \"\").strip()\n",
    "        valmap = p.get(\"valmap\", {}) or {}\n",
    "        lines = [f\"- `{name}`：{desc or '—'}\"]\n",
    "        if valmap:\n",
    "            for k, v in valmap.items():\n",
    "                lines.append(f\"  - `{k}`: {v}\")\n",
    "        out.append(\"\\n\".join(lines))\n",
    "    return \"\\n\\n\".join(out).strip()"
   ]
  },
  {
   "cell_type": "markdown",
   "metadata": {},
   "source": [
    "## 🧠 核心函数：Word → CSV (Markdown参数)"
   ]
  },
  {
   "cell_type": "code",
   "execution_count": 5,
   "metadata": {},
   "outputs": [],
   "source": [
    "def extract_word_to_csv(docx_path, csv_out):\n",
    "    if not os.path.exists(docx_path):\n",
    "        raise FileNotFoundError(f\"未找到 Word 文件: {docx_path}\")\n",
    "\n",
    "    doc = Document(docx_path)\n",
    "    seq = list(iter_ordered_blocks(doc))\n",
    "\n",
    "    results = []\n",
    "    i = 0\n",
    "    cmd_order = 0\n",
    "\n",
    "    while i < len(seq):\n",
    "        typ, obj = seq[i]\n",
    "        if typ == \"p\":\n",
    "            m = CMD_LINE_PAT.match(obj)\n",
    "            if m:\n",
    "                cmd_order += 1\n",
    "                current_cmd = m.group(1).strip()\n",
    "                current_title = (m.group(2) or \"\").strip()\n",
    "\n",
    "                desc_lines = []\n",
    "                j = i + 1\n",
    "                while j < len(seq):\n",
    "                    t2, o2 = seq[j]\n",
    "                    if t2 == \"p\":\n",
    "                        if is_cmd_heading(o2) or is_param_heading(o2): break\n",
    "                        if o2: desc_lines.append(o2)\n",
    "                    elif t2 == \"tbl\": break\n",
    "                    j += 1\n",
    "                merged_desc = \"\\n\".join(desc_lines).strip()\n",
    "\n",
    "                params_all = []\n",
    "                table_count = 0\n",
    "                k = j\n",
    "                while k < len(seq):\n",
    "                    t3, o3 = seq[k]\n",
    "                    if t3 == \"p\" and is_cmd_heading(o3): break\n",
    "                    if t3 == \"p\" and is_param_heading(o3):\n",
    "                        k += 1\n",
    "                        while k < len(seq) and seq[k][0] == \"tbl\":\n",
    "                            table = seq[k][1]\n",
    "                            table_count += 1\n",
    "                            for r in table.rows:\n",
    "                                cols = r.cells\n",
    "                                if not any(c.text.strip() for c in cols): continue\n",
    "                                try:\n",
    "                                    name = cell_plain_text(cols[0]) if len(cols) > 0 else \"\"\n",
    "                                    desc = cell_plain_text(cols[1]) if len(cols) > 1 else \"\"\n",
    "                                    valmap = {}\n",
    "                                    if len(cols) > 2:\n",
    "                                        valmap = cell_valmap_from_nested_table(cols[2]) or parse_enum_map_fuzzy(cell_plain_text(cols[2]))\n",
    "                                    if not valmap and len(cols) > 1:\n",
    "                                        valmap = cell_valmap_from_nested_table(cols[1]) or parse_enum_map_fuzzy(desc)\n",
    "                                    if name in (\"参数\",\"参数名\",\"Name\") and any(x in desc for x in [\"描述\",\"说明\",\"Description\",\"Meaning\"]): continue\n",
    "                                    params_all.append({\"name\": name, \"desc\": desc, \"valmap\": valmap})\n",
    "                                except Exception as e:\n",
    "                                    print(f\"⚠️ 参数解析异常 {current_cmd}: {e}\")\n",
    "                            k += 1\n",
    "                        continue\n",
    "                    k += 1\n",
    "\n",
    "                results.append({\n",
    "                    \"章节\": str(cmd_order),\n",
    "                    \"命令\": current_cmd,\n",
    "                    \"命令标题\": current_title,\n",
    "                    \"命令类型\": \"执行\",\n",
    "                    \"命令格式\": current_cmd,\n",
    "                    \"响应\": \"<CR><LF>OK<CR><LF>\",\n",
    "                    \"示例命令\": f\"{current_cmd}\\n\\nOK\",\n",
    "                    \"功能描述\": merged_desc or current_title,\n",
    "                    \"备注\": f\"说明示例{cmd_order}\",\n",
    "                    \"表数量\": table_count,\n",
    "                    \"顺序\": cmd_order,\n",
    "                    \"参数\": format_params_markdown(params_all)\n",
    "                })\n",
    "                i = k; continue\n",
    "        i += 1\n",
    "\n",
    "    df = pd.DataFrame(results)\n",
    "    df.to_csv(csv_out, index=False, encoding=\"utf-8-sig\")\n",
    "    print(f\"✅ 提取 {len(df)} 条命令 → {csv_out}\")\n",
    "    return df"
   ]
  },
  {
   "cell_type": "markdown",
   "metadata": {},
   "source": [
    "## 🚀 运行提取"
   ]
  },
  {
   "cell_type": "code",
   "execution_count": 6,
   "metadata": {},
   "outputs": [
    {
     "name": "stdout",
     "output_type": "stream",
     "text": [
      "✅ 提取 2 条命令 → data/at_commands_markdown.csv\n"
     ]
    },
    {
     "name": "stderr",
     "output_type": "stream",
     "text": [
      "C:\\Users\\txiab\\AppData\\Local\\Temp\\ipykernel_50680\\1234532880.py:69: DeprecationWarning: 'maxsplit' is passed as positional argument\n",
      "  k, v = re.split(r\"[:：]\", s, 1); k, v = k.strip(), v.strip()\n"
     ]
    }
   ],
   "source": [
    "df = extract_word_to_csv(IN_WORD, CSV_OUT)"
   ]
  },
  {
   "cell_type": "code",
   "execution_count": 7,
   "metadata": {},
   "outputs": [
    {
     "data": {
      "text/html": [
       "<div>\n",
       "<style scoped>\n",
       "    .dataframe tbody tr th:only-of-type {\n",
       "        vertical-align: middle;\n",
       "    }\n",
       "\n",
       "    .dataframe tbody tr th {\n",
       "        vertical-align: top;\n",
       "    }\n",
       "\n",
       "    .dataframe thead th {\n",
       "        text-align: right;\n",
       "    }\n",
       "</style>\n",
       "<table border=\"1\" class=\"dataframe\">\n",
       "  <thead>\n",
       "    <tr style=\"text-align: right;\">\n",
       "      <th></th>\n",
       "      <th>章节</th>\n",
       "      <th>命令</th>\n",
       "      <th>命令标题</th>\n",
       "      <th>命令类型</th>\n",
       "      <th>命令格式</th>\n",
       "      <th>响应</th>\n",
       "      <th>示例命令</th>\n",
       "      <th>功能描述</th>\n",
       "      <th>备注</th>\n",
       "      <th>表数量</th>\n",
       "      <th>顺序</th>\n",
       "      <th>参数</th>\n",
       "    </tr>\n",
       "  </thead>\n",
       "  <tbody>\n",
       "    <tr>\n",
       "      <th>0</th>\n",
       "      <td>1</td>\n",
       "      <td>ATI</td>\n",
       "      <td>获取模组厂商信息</td>\n",
       "      <td>执行</td>\n",
       "      <td>ATI</td>\n",
       "      <td>&lt;CR&gt;&lt;LF&gt;OK&lt;CR&gt;&lt;LF&gt;</td>\n",
       "      <td>ATI\\n\\nOK</td>\n",
       "      <td>获取模组厂商信息，包括厂家、型号和版本。\\n命令格式</td>\n",
       "      <td>说明示例1</td>\n",
       "      <td>1</td>\n",
       "      <td>1</td>\n",
       "      <td>- `&lt;manufacturer&gt;`：模组厂商信息、产品名称、版本号\\n\\n- `&lt;modu...</td>\n",
       "    </tr>\n",
       "    <tr>\n",
       "      <th>1</th>\n",
       "      <td>2</td>\n",
       "      <td>AT+CSMS</td>\n",
       "      <td>选择短信服务</td>\n",
       "      <td>执行</td>\n",
       "      <td>AT+CSMS</td>\n",
       "      <td>&lt;CR&gt;&lt;LF&gt;OK&lt;CR&gt;&lt;LF&gt;</td>\n",
       "      <td>AT+CSMS\\n\\nOK</td>\n",
       "      <td>用于支持的短消息包括：发送（SMS-MO）、接收（SMS-MT）、小区广播（SMS-CB）。...</td>\n",
       "      <td>说明示例2</td>\n",
       "      <td>1</td>\n",
       "      <td>2</td>\n",
       "      <td>- `&lt;service&gt;`：0：GSM03.40 and GSM03.41；SMS相关AT指...</td>\n",
       "    </tr>\n",
       "  </tbody>\n",
       "</table>\n",
       "</div>"
      ],
      "text/plain": [
       "  章节       命令      命令标题 命令类型     命令格式                  响应           示例命令  \\\n",
       "0  1      ATI  获取模组厂商信息   执行      ATI  <CR><LF>OK<CR><LF>      ATI\\n\\nOK   \n",
       "1  2  AT+CSMS    选择短信服务   执行  AT+CSMS  <CR><LF>OK<CR><LF>  AT+CSMS\\n\\nOK   \n",
       "\n",
       "                                                功能描述     备注  表数量  顺序  \\\n",
       "0                         获取模组厂商信息，包括厂家、型号和版本。\\n命令格式  说明示例1    1   1   \n",
       "1  用于支持的短消息包括：发送（SMS-MO）、接收（SMS-MT）、小区广播（SMS-CB）。...  说明示例2    1   2   \n",
       "\n",
       "                                                  参数  \n",
       "0  - `<manufacturer>`：模组厂商信息、产品名称、版本号\\n\\n- `<modu...  \n",
       "1  - `<service>`：0：GSM03.40 and GSM03.41；SMS相关AT指...  "
      ]
     },
     "execution_count": 7,
     "metadata": {},
     "output_type": "execute_result"
    }
   ],
   "source": [
    "df.head()"
   ]
  }
 ],
 "metadata": {
  "kernelspec": {
   "display_name": ".venv",
   "language": "python",
   "name": "python3"
  },
  "language_info": {
   "codemirror_mode": {
    "name": "ipython",
    "version": 3
   },
   "file_extension": ".py",
   "mimetype": "text/x-python",
   "name": "python",
   "nbconvert_exporter": "python",
   "pygments_lexer": "ipython3",
   "version": "3.13.7"
  }
 },
 "nbformat": 4,
 "nbformat_minor": 5
}

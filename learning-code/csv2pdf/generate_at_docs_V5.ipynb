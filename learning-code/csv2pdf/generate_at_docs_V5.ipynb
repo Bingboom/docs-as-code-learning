{
  "cells": [
    {
      "cell_type": "markdown",
      "metadata": {},
      "source": [
        "# 生成 AT 指令文档（带 参数json 字段）\n",
        "此 Notebook 从 CSV → YAML → RST → HTML，使用 CSV 中 `参数json` 字段作为参数来源。"
      ]
    },
    {
      "cell_type": "code",
      "execution_count": 4,
      "metadata": {},
      "outputs": [
        {
          "name": "stdout",
          "output_type": "stream",
          "text": [
            "Requirement already satisfied: pandas in c:\\users\\txiab\\documents\\git-folder\\building-docs\\docs-as-code-learning\\.venv\\lib\\site-packages (2.3.3)\n",
            "Requirement already satisfied: jinja2 in c:\\users\\txiab\\documents\\git-folder\\building-docs\\docs-as-code-learning\\.venv\\lib\\site-packages (3.1.6)\n",
            "Requirement already satisfied: ruamel.yaml in c:\\users\\txiab\\documents\\git-folder\\building-docs\\docs-as-code-learning\\.venv\\lib\\site-packages (0.18.15)\n",
            "Requirement already satisfied: sphinx in c:\\users\\txiab\\documents\\git-folder\\building-docs\\docs-as-code-learning\\.venv\\lib\\site-packages (8.2.3)\n",
            "Requirement already satisfied: sphinx-rtd-theme in c:\\users\\txiab\\documents\\git-folder\\building-docs\\docs-as-code-learning\\.venv\\lib\\site-packages (3.0.2)\n",
            "Requirement already satisfied: numpy>=1.26.0 in c:\\users\\txiab\\documents\\git-folder\\building-docs\\docs-as-code-learning\\.venv\\lib\\site-packages (from pandas) (2.3.3)\n",
            "Requirement already satisfied: python-dateutil>=2.8.2 in c:\\users\\txiab\\documents\\git-folder\\building-docs\\docs-as-code-learning\\.venv\\lib\\site-packages (from pandas) (2.9.0.post0)\n",
            "Requirement already satisfied: pytz>=2020.1 in c:\\users\\txiab\\documents\\git-folder\\building-docs\\docs-as-code-learning\\.venv\\lib\\site-packages (from pandas) (2025.2)\n",
            "Requirement already satisfied: tzdata>=2022.7 in c:\\users\\txiab\\documents\\git-folder\\building-docs\\docs-as-code-learning\\.venv\\lib\\site-packages (from pandas) (2025.2)\n",
            "Requirement already satisfied: MarkupSafe>=2.0 in c:\\users\\txiab\\documents\\git-folder\\building-docs\\docs-as-code-learning\\.venv\\lib\\site-packages (from jinja2) (3.0.3)\n",
            "Requirement already satisfied: ruamel.yaml.clib>=0.2.7 in c:\\users\\txiab\\documents\\git-folder\\building-docs\\docs-as-code-learning\\.venv\\lib\\site-packages (from ruamel.yaml) (0.2.14)\n",
            "Requirement already satisfied: sphinxcontrib-applehelp>=1.0.7 in c:\\users\\txiab\\documents\\git-folder\\building-docs\\docs-as-code-learning\\.venv\\lib\\site-packages (from sphinx) (2.0.0)\n",
            "Requirement already satisfied: sphinxcontrib-devhelp>=1.0.6 in c:\\users\\txiab\\documents\\git-folder\\building-docs\\docs-as-code-learning\\.venv\\lib\\site-packages (from sphinx) (2.0.0)\n",
            "Requirement already satisfied: sphinxcontrib-htmlhelp>=2.0.6 in c:\\users\\txiab\\documents\\git-folder\\building-docs\\docs-as-code-learning\\.venv\\lib\\site-packages (from sphinx) (2.1.0)\n",
            "Requirement already satisfied: sphinxcontrib-jsmath>=1.0.1 in c:\\users\\txiab\\documents\\git-folder\\building-docs\\docs-as-code-learning\\.venv\\lib\\site-packages (from sphinx) (1.0.1)\n",
            "Requirement already satisfied: sphinxcontrib-qthelp>=1.0.6 in c:\\users\\txiab\\documents\\git-folder\\building-docs\\docs-as-code-learning\\.venv\\lib\\site-packages (from sphinx) (2.0.0)\n",
            "Requirement already satisfied: sphinxcontrib-serializinghtml>=1.1.9 in c:\\users\\txiab\\documents\\git-folder\\building-docs\\docs-as-code-learning\\.venv\\lib\\site-packages (from sphinx) (2.0.0)\n",
            "Requirement already satisfied: Pygments>=2.17 in c:\\users\\txiab\\documents\\git-folder\\building-docs\\docs-as-code-learning\\.venv\\lib\\site-packages (from sphinx) (2.19.2)\n",
            "Requirement already satisfied: docutils<0.22,>=0.20 in c:\\users\\txiab\\documents\\git-folder\\building-docs\\docs-as-code-learning\\.venv\\lib\\site-packages (from sphinx) (0.20.1)\n",
            "Requirement already satisfied: snowballstemmer>=2.2 in c:\\users\\txiab\\documents\\git-folder\\building-docs\\docs-as-code-learning\\.venv\\lib\\site-packages (from sphinx) (3.0.1)\n",
            "Requirement already satisfied: babel>=2.13 in c:\\users\\txiab\\documents\\git-folder\\building-docs\\docs-as-code-learning\\.venv\\lib\\site-packages (from sphinx) (2.17.0)\n",
            "Requirement already satisfied: alabaster>=0.7.14 in c:\\users\\txiab\\documents\\git-folder\\building-docs\\docs-as-code-learning\\.venv\\lib\\site-packages (from sphinx) (1.0.0)\n",
            "Requirement already satisfied: imagesize>=1.3 in c:\\users\\txiab\\documents\\git-folder\\building-docs\\docs-as-code-learning\\.venv\\lib\\site-packages (from sphinx) (1.4.1)\n",
            "Requirement already satisfied: requests>=2.30.0 in c:\\users\\txiab\\documents\\git-folder\\building-docs\\docs-as-code-learning\\.venv\\lib\\site-packages (from sphinx) (2.32.5)\n",
            "Requirement already satisfied: roman-numerals-py>=1.0.0 in c:\\users\\txiab\\documents\\git-folder\\building-docs\\docs-as-code-learning\\.venv\\lib\\site-packages (from sphinx) (3.1.0)\n",
            "Requirement already satisfied: packaging>=23.0 in c:\\users\\txiab\\documents\\git-folder\\building-docs\\docs-as-code-learning\\.venv\\lib\\site-packages (from sphinx) (25.0)\n",
            "Requirement already satisfied: colorama>=0.4.6 in c:\\users\\txiab\\documents\\git-folder\\building-docs\\docs-as-code-learning\\.venv\\lib\\site-packages (from sphinx) (0.4.6)\n",
            "Requirement already satisfied: sphinxcontrib-jquery<5,>=4 in c:\\users\\txiab\\documents\\git-folder\\building-docs\\docs-as-code-learning\\.venv\\lib\\site-packages (from sphinx-rtd-theme) (4.1)\n",
            "Requirement already satisfied: six>=1.5 in c:\\users\\txiab\\documents\\git-folder\\building-docs\\docs-as-code-learning\\.venv\\lib\\site-packages (from python-dateutil>=2.8.2->pandas) (1.17.0)\n",
            "Requirement already satisfied: charset_normalizer<4,>=2 in c:\\users\\txiab\\documents\\git-folder\\building-docs\\docs-as-code-learning\\.venv\\lib\\site-packages (from requests>=2.30.0->sphinx) (3.4.3)\n",
            "Requirement already satisfied: idna<4,>=2.5 in c:\\users\\txiab\\documents\\git-folder\\building-docs\\docs-as-code-learning\\.venv\\lib\\site-packages (from requests>=2.30.0->sphinx) (3.10)\n",
            "Requirement already satisfied: urllib3<3,>=1.21.1 in c:\\users\\txiab\\documents\\git-folder\\building-docs\\docs-as-code-learning\\.venv\\lib\\site-packages (from requests>=2.30.0->sphinx) (2.5.0)\n",
            "Requirement already satisfied: certifi>=2017.4.17 in c:\\users\\txiab\\documents\\git-folder\\building-docs\\docs-as-code-learning\\.venv\\lib\\site-packages (from requests>=2.30.0->sphinx) (2025.10.5)\n",
            "✅ 依赖安装完成\n"
          ]
        }
      ],
      "source": [
        "!pip install pandas jinja2 ruamel.yaml sphinx sphinx-rtd-theme\n",
        "print(\"✅ 依赖安装完成\")"
      ]
    },
    {
      "cell_type": "code",
      "execution_count": 5,
      "metadata": {},
      "outputs": [],
      "source": [
        "import os\n",
        "import pandas as pd\n",
        "import json\n",
        "from ruamel.yaml import YAML\n",
        "from jinja2 import Environment\n",
        "from sphinx.application import Sphinx"
      ]
    },
    {
      "cell_type": "code",
      "execution_count": 6,
      "metadata": {},
      "outputs": [
        {
          "data": {
            "text/html": [
              "<div>\n",
              "<style scoped>\n",
              "    .dataframe tbody tr th:only-of-type {\n",
              "        vertical-align: middle;\n",
              "    }\n",
              "\n",
              "    .dataframe tbody tr th {\n",
              "        vertical-align: top;\n",
              "    }\n",
              "\n",
              "    .dataframe thead th {\n",
              "        text-align: right;\n",
              "    }\n",
              "</style>\n",
              "<table border=\"1\" class=\"dataframe\">\n",
              "  <thead>\n",
              "    <tr style=\"text-align: right;\">\n",
              "      <th></th>\n",
              "      <th>章节</th>\n",
              "      <th>命令</th>\n",
              "      <th>命令标题</th>\n",
              "      <th>命令类型</th>\n",
              "      <th>命令格式</th>\n",
              "      <th>响应</th>\n",
              "      <th>示例命令</th>\n",
              "      <th>功能描述</th>\n",
              "      <th>备注</th>\n",
              "      <th>表数量</th>\n",
              "      <th>顺序</th>\n",
              "      <th>参数</th>\n",
              "      <th>参数1</th>\n",
              "      <th>参数json</th>\n",
              "      <th>参数_parsed</th>\n",
              "    </tr>\n",
              "  </thead>\n",
              "  <tbody>\n",
              "    <tr>\n",
              "      <th>0</th>\n",
              "      <td>1</td>\n",
              "      <td>ATI</td>\n",
              "      <td>获取模组厂商信息</td>\n",
              "      <td>执行</td>\n",
              "      <td>ATI</td>\n",
              "      <td>&lt;CR&gt;&lt;LF&gt;OK&lt;CR&gt;&lt;LF&gt;</td>\n",
              "      <td>ATI\\r\\n\\r\\nOK</td>\n",
              "      <td>获取模组厂商信息，包括厂家、型号和版本。\\r\\n命令格式</td>\n",
              "      <td>说明示例1</td>\n",
              "      <td>1</td>\n",
              "      <td>1</td>\n",
              "      <td>- `&lt;manufacturer&gt;`：模组厂商信息、产品名称、版本号\\r\\n\\r\\n- `&lt;...</td>\n",
              "      <td>- `&lt;manufacturer&gt;`：模组厂商信息、产品名称、版本号\\r\\n\\r\\n- `&lt;...</td>\n",
              "      <td>{\"&lt;manufacturer&gt;\": {\"__desc__\": \"模组厂商信息、产品名称、版...</td>\n",
              "      <td>{'&lt;manufacturer&gt;': {'__desc__': '模组厂商信息、产品名称、版...</td>\n",
              "    </tr>\n",
              "    <tr>\n",
              "      <th>1</th>\n",
              "      <td>2</td>\n",
              "      <td>AT+CSMS</td>\n",
              "      <td>选择短信服务</td>\n",
              "      <td>执行</td>\n",
              "      <td>AT+CSMS</td>\n",
              "      <td>&lt;CR&gt;&lt;LF&gt;OK&lt;CR&gt;&lt;LF&gt;</td>\n",
              "      <td>AT+CSMS\\r\\n\\r\\nOK</td>\n",
              "      <td>用于支持的短消息包括：发送（SMS-MO）、接收（SMS-MT）、小区广播（SMS-CB）。...</td>\n",
              "      <td>说明示例2</td>\n",
              "      <td>1</td>\n",
              "      <td>2</td>\n",
              "      <td>- `&lt;service&gt;`：0：GSM03.40 and GSM03.41；SMS相关AT指...</td>\n",
              "      <td>- `&lt;service&gt;`：\\r\\n  - `0`: GSM03.40 and GSM03....</td>\n",
              "      <td>{\"&lt;service&gt;\": {\"__desc__\": \"\", \"0\": \"GSM03.40 ...</td>\n",
              "      <td>{'&lt;service&gt;': {'__desc__': '', '0': 'GSM03.40 ...</td>\n",
              "    </tr>\n",
              "  </tbody>\n",
              "</table>\n",
              "</div>"
            ],
            "text/plain": [
              "   章节       命令      命令标题 命令类型     命令格式                  响应               示例命令  \\\n",
              "0   1      ATI  获取模组厂商信息   执行      ATI  <CR><LF>OK<CR><LF>      ATI\\r\\n\\r\\nOK   \n",
              "1   2  AT+CSMS    选择短信服务   执行  AT+CSMS  <CR><LF>OK<CR><LF>  AT+CSMS\\r\\n\\r\\nOK   \n",
              "\n",
              "                                                功能描述     备注  表数量  顺序  \\\n",
              "0                       获取模组厂商信息，包括厂家、型号和版本。\\r\\n命令格式  说明示例1    1   1   \n",
              "1  用于支持的短消息包括：发送（SMS-MO）、接收（SMS-MT）、小区广播（SMS-CB）。...  说明示例2    1   2   \n",
              "\n",
              "                                                  参数  \\\n",
              "0  - `<manufacturer>`：模组厂商信息、产品名称、版本号\\r\\n\\r\\n- `<...   \n",
              "1  - `<service>`：0：GSM03.40 and GSM03.41；SMS相关AT指...   \n",
              "\n",
              "                                                 参数1  \\\n",
              "0  - `<manufacturer>`：模组厂商信息、产品名称、版本号\\r\\n\\r\\n- `<...   \n",
              "1  - `<service>`：\\r\\n  - `0`: GSM03.40 and GSM03....   \n",
              "\n",
              "                                              参数json  \\\n",
              "0  {\"<manufacturer>\": {\"__desc__\": \"模组厂商信息、产品名称、版...   \n",
              "1  {\"<service>\": {\"__desc__\": \"\", \"0\": \"GSM03.40 ...   \n",
              "\n",
              "                                           参数_parsed  \n",
              "0  {'<manufacturer>': {'__desc__': '模组厂商信息、产品名称、版...  \n",
              "1  {'<service>': {'__desc__': '', '0': 'GSM03.40 ...  "
            ]
          },
          "execution_count": 6,
          "metadata": {},
          "output_type": "execute_result"
        }
      ],
      "source": [
        "# 读取 CSV，假设 CSV 含有 `参数json` 字段，该字段是 JSON 字符串\n",
        "CSV_INPUT = 'at_commands_with_json.csv'\n",
        "df = pd.read_csv(CSV_INPUT, encoding='utf-8')\n",
        "\n",
        "# 将参数json 列解析为 Python 结构\n",
        "def safe_parse_param_json(s):\n",
        "    try:\n",
        "        return json.loads(s) if isinstance(s, str) and s.strip() else []\n",
        "    except Exception as e:\n",
        "        print(f\"⚠️ 解析参数json 失败: {e}, value={s}\")\n",
        "        return []\n",
        "\n",
        "df['参数_parsed'] = df['参数json'].apply(safe_parse_param_json)\n",
        "df.head()"
      ]
    },
    {
      "cell_type": "code",
      "execution_count": 7,
      "metadata": {},
      "outputs": [
        {
          "name": "stdout",
          "output_type": "stream",
          "text": [
            "✅ YAML 文件已生成，目录： yaml_output\n"
          ]
        }
      ],
      "source": [
        "# 将 CSV 转为 YAML，每一条命令一文件或写一个集合 YAML\n",
        "yaml = YAML()\n",
        "yaml.default_flow_style = False\n",
        "\n",
        "OUT_YAML_DIR = 'yaml_output'\n",
        "os.makedirs(OUT_YAML_DIR, exist_ok=True)\n",
        "\n",
        "for idx, row in df.iterrows():\n",
        "    cmd = row['命令']\n",
        "    obj = {\n",
        "        '命令': cmd,\n",
        "        '命令标题': row.get('命令标题', ''),\n",
        "        '命令类型': row.get('命令类型', ''),\n",
        "        '响应': row.get('响应', ''),\n",
        "        '示例命令': row.get('示例命令', ''),\n",
        "        '功能描述': row.get('功能描述', ''),\n",
        "        '备注': row.get('备注', ''),\n",
        "        '参数': row['参数_parparsed'] if '参数_parparsed' in row else safe_parse_param_json(row.get('参数json', ''))\n",
        "    }\n",
        "    fn = os.path.join(OUT_YAML_DIR, f\"{cmd}.yaml\")\n",
        "    with open(fn, 'w', encoding='utf-8') as f:\n",
        "        yaml.dump(obj, f)\n",
        "\n",
        "print(\"✅ YAML 文件已生成，目录：\", OUT_YAML_DIR)"
      ]
    },
    {
      "cell_type": "code",
      "execution_count": 8,
      "metadata": {},
      "outputs": [
        {
          "name": "stdout",
          "output_type": "stream",
          "text": [
            "✅ RST 文件已生成，目录： rst_output\n"
          ]
        }
      ],
      "source": [
        "# 由 YAML → RST（简化版）\n",
        "env = Environment()\n",
        "TEMPLATE = '''\n",
        "{{ command }} — {{ title }}\\n\n",
        "{{ '=' * (command|length + 3 + title|length) }}\\n\n",
        "\\n\n",
        "命令类型: {{ ctype }}\\n\n",
        "响应: |\\n\n",
        "{% for l in response.splitlines() %}  {{ l }}\\n{% endfor %}\n",
        "\\n\n",
        "参数:\\n\n",
        "{% if params %}\n",
        "{% for p in params %}- **{{ p.name }}**：\n",
        "{% if p.valmap %}\n",
        "\\n\n",
        "{% for k, v in p.valmap.items() %}    - {{ k }}：{{ v }}\\n{% endfor %}\n",
        "{% else %}{{ p.desc }}\\n{% endif %}\n",
        "{% endfor %}\n",
        "{% else %}无\\n{% endif %}\n",
        "\\n\n",
        "说明: {{ note }}\\n\n",
        "\\n\n",
        "示例命令: |\\n\n",
        "{% for l in example.splitlines() %}  {{ l }}\\n{% endfor %}\n",
        "'''\n",
        "\n",
        "OUT_RST_DIR = 'rst_output'\n",
        "os.makedirs(OUT_RST_DIR, exist_ok=True)\n",
        "\n",
        "for idx, row in df.iterrows():\n",
        "    cmd = row['命令']\n",
        "    params = safe_parse_param_json(row.get('参数JSON', ''))\n",
        "    rst = env.from_string(TEMPLATE).render(\n",
        "        command=cmd, title=row.get('命令标题', ''), ctype=row.get('命令类型', ''),\n",
        "        response=row.get('响应', ''), params=params,\n",
        "        note=row.get('备注', ''), example=row.get('示例命令', '')\n",
        "    )\n",
        "    with open(os.path.join(OUT_RST_DIR, f\"{cmd}.rst\"), 'w', encoding='utf-8') as f:\n",
        "        f.write(rst)\n",
        "\n",
        "print(\"✅ RST 文件已生成，目录：\", OUT_RST_DIR)"
      ]
    },
    {
      "cell_type": "code",
      "execution_count": 9,
      "metadata": {},
      "outputs": [
        {
          "ename": "TypeError",
          "evalue": "Sphinx.__init__() missing 1 required positional argument: 'doctreedir'",
          "output_type": "error",
          "traceback": [
            "\u001b[31m---------------------------------------------------------------------------\u001b[39m",
            "\u001b[31mTypeError\u001b[39m                                 Traceback (most recent call last)",
            "\u001b[36mCell\u001b[39m\u001b[36m \u001b[39m\u001b[32mIn[9]\u001b[39m\u001b[32m, line 2\u001b[39m\n\u001b[32m      1\u001b[39m \u001b[38;5;66;03m# 最后，用 Sphinx 构建 HTML（假定已有 conf.py 在 docs/）\u001b[39;00m\n\u001b[32m----> \u001b[39m\u001b[32m2\u001b[39m \u001b[43mSphinx\u001b[49m\u001b[43m(\u001b[49m\u001b[43msrcdir\u001b[49m\u001b[43m=\u001b[49m\u001b[33;43m'\u001b[39;49m\u001b[33;43mrst_output\u001b[39;49m\u001b[33;43m'\u001b[39;49m\u001b[43m,\u001b[49m\u001b[43m \u001b[49m\u001b[43mconfdir\u001b[49m\u001b[43m=\u001b[49m\u001b[33;43m'\u001b[39;49m\u001b[33;43mdocs\u001b[39;49m\u001b[33;43m'\u001b[39;49m\u001b[43m,\u001b[49m\u001b[43m \u001b[49m\u001b[43moutdir\u001b[49m\u001b[43m=\u001b[49m\u001b[33;43m'\u001b[39;49m\u001b[33;43mdocs/build/html\u001b[39;49m\u001b[33;43m'\u001b[39;49m\u001b[43m,\u001b[49m\u001b[43m \u001b[49m\u001b[43mbuildername\u001b[49m\u001b[43m=\u001b[49m\u001b[33;43m'\u001b[39;49m\u001b[33;43mhtml\u001b[39;49m\u001b[33;43m'\u001b[39;49m\u001b[43m)\u001b[49m.build()\n\u001b[32m      3\u001b[39m \u001b[38;5;28mprint\u001b[39m(\u001b[33m\"\u001b[39m\u001b[33m✅ HTML 构建完成，输出目录：docs/build/html\u001b[39m\u001b[33m\"\u001b[39m)\n",
            "\u001b[31mTypeError\u001b[39m: Sphinx.__init__() missing 1 required positional argument: 'doctreedir'"
          ]
        }
      ],
      "source": [
        "# 最后，用 Sphinx 构建 HTML（假定已有 conf.py 在 docs/）\n",
        "Sphinx(srcdir='rst_output', confdir='docs', outdir='docs/build/html', buildername='html').build()\n",
        "print(\"✅ HTML 构建完成，输出目录：docs/build/html\")"
      ]
    }
  ],
  "metadata": {
    "kernelspec": {
      "display_name": ".venv",
      "language": "python",
      "name": "python3"
    },
    "language_info": {
      "codemirror_mode": {
        "name": "ipython",
        "version": 3
      },
      "file_extension": ".py",
      "mimetype": "text/x-python",
      "name": "python",
      "nbconvert_exporter": "python",
      "pygments_lexer": "ipython3",
      "version": "3.13.7"
    }
  },
  "nbformat": 4,
  "nbformat_minor": 5
}

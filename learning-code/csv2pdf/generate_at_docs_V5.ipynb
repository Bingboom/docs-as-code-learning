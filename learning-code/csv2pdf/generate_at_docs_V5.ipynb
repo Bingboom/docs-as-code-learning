{
  "cells": [
    {
      "cell_type": "markdown",
      "metadata": {},
      "source": [
        "# 生成 AT 指令文档（带 参数(JSON) 字段）\n",
        "此 Notebook 从 CSV → YAML → RST → HTML，使用 CSV 中 `参数(JSON)` 字段作为参数来源。"
      ]
    },
    {
      "cell_type": "code",
      "execution_count": null,
      "metadata": {},
      "outputs": [],
      "source": [
        "!pip install pandas jinja2 ruamel.yaml sphinx sphinx-rtd-theme\n",
        "print(\"✅ 依赖安装完成\")"
      ]
    },
    {
      "cell_type": "code",
      "execution_count": null,
      "metadata": {},
      "outputs": [],
      "source": [
        "import os\n",
        "import pandas as pd\n",
        "import json\n",
        "from ruamel.yaml import YAML\n",
        "from jinja2 import Environment\n",
        "from sphinx.application import Sphinx"
      ]
    },
    {
      "cell_type": "code",
      "execution_count": null,
      "metadata": {},
      "outputs": [],
      "source": [
        "# 读取 CSV，假设 CSV 含有 `参数(JSON)` 字段，该字段是 JSON 字符串\n",
        "CSV_INPUT = 'input.csv'\n",
        "df = pd.read_csv(CSV_INPUT, encoding='utf-8')\n",
        "\n",
        "# 将参数(JSON) 列解析为 Python 结构\n",
        "def safe_parse_param_json(s):\n",
        "    try:\n",
        "        return json.loads(s) if isinstance(s, str) and s.strip() else []\n",
        "    except Exception as e:\n",
        "        print(f\"⚠️ 解析参数(JSON) 失败: {e}, value={s}\")\n",
        "        return []\n",
        "\n",
        "df['参数_parsed'] = df['参数(JSON)'].apply(safe_parse_param_json)\n",
        "df.head()"
      ]
    },
    {
      "cell_type": "code",
      "execution_count": null,
      "metadata": {},
      "outputs": [],
      "source": [
        "# 将 CSV 转为 YAML，每一条命令一文件或写一个集合 YAML\n",
        "yaml = YAML()\n",
        "yaml.default_flow_style = False\n",
        "\n",
        "OUT_YAML_DIR = 'yaml_output'\n",
        "os.makedirs(OUT_YAML_DIR, exist_ok=True)\n",
        "\n",
        "for idx, row in df.iterrows():\n",
        "    cmd = row['命令']\n",
        "    obj = {\n",
        "        '命令': cmd,\n",
        "        '命令标题': row.get('命令标题', ''),\n",
        "        '命令类型': row.get('命令类型', ''),\n",
        "        '响应': row.get('响应', ''),\n",
        "        '示例命令': row.get('示例命令', ''),\n",
        "        '功能描述': row.get('功能描述', ''),\n",
        "        '备注': row.get('备注', ''),\n",
        "        '参数': row['参数_parparsed'] if '参数_parparsed' in row else safe_parse_param_json(row.get('参数(JSON)', ''))\n",
        "    }\n",
        "    fn = os.path.join(OUT_YAML_DIR, f\"{cmd}.yaml\")\n",
        "    with open(fn, 'w', encoding='utf-8') as f:\n",
        "        yaml.dump(obj, f)\n",
        "\n",
        "print(\"✅ YAML 文件已生成，目录：\", OUT_YAML_DIR)"
      ]
    },
    {
      "cell_type": "code",
      "execution_count": null,
      "metadata": {},
      "outputs": [],
      "source": [
        "# 由 YAML → RST（简化版）\n",
        "env = Environment()\n",
        "TEMPLATE = '''\n",
        "{{ command }} — {{ title }}\\n\n",
        "{{ '=' * (command|length + 3 + title|length) }}\\n\n",
        "\\n\n",
        "命令类型: {{ ctype }}\\n\n",
        "响应: |\\n\n",
        "{% for l in response.splitlines() %}  {{ l }}\\n{% endfor %}\n",
        "\\n\n",
        "参数:\\n\n",
        "{% if params %}\n",
        "{% for p in params %}- **{{ p.name }}**：\n",
        "{% if p.valmap %}\n",
        "\\n\n",
        "{% for k, v in p.valmap.items() %}    - {{ k }}：{{ v }}\\n{% endfor %}\n",
        "{% else %}{{ p.desc }}\\n{% endif %}\n",
        "{% endfor %}\n",
        "{% else %}无\\n{% endif %}\n",
        "\\n\n",
        "说明: {{ note }}\\n\n",
        "\\n\n",
        "示例命令: |\\n\n",
        "{% for l in example.splitlines() %}  {{ l }}\\n{% endfor %}\n",
        "'''\n",
        "\n",
        "OUT_RST_DIR = 'rst_output'\n",
        "os.makedirs(OUT_RST_DIR, exist_ok=True)\n",
        "\n",
        "for idx, row in df.iterrows():\n",
        "    cmd = row['命令']\n",
        "    params = safe_parse_param_json(row.get('参数(JSON)', ''))\n",
        "    rst = env.from_string(TEMPLATE).render(\n",
        "        command=cmd, title=row.get('命令标题', ''), ctype=row.get('命令类型', ''),\n",
        "        response=row.get('响应', ''), params=params,\n",
        "        note=row.get('备注', ''), example=row.get('示例命令', '')\n",
        "    )\n",
        "    with open(os.path.join(OUT_RST_DIR, f\"{cmd}.rst\"), 'w', encoding='utf-8') as f:\n",
        "        f.write(rst)\n",
        "\n",
        "print(\"✅ RST 文件已生成，目录：\", OUT_RST_DIR)"
      ]
    },
    {
      "cell_type": "code",
      "execution_count": null,
      "metadata": {},
      "outputs": [],
      "source": [
        "# 最后，用 Sphinx 构建 HTML（假定已有 conf.py 在 docs/）\n",
        "Sphinx(srcdir='rst_output', confdir='docs', outdir='docs/build/html', buildername='html').build()\n",
        "print(\"✅ HTML 构建完成，输出目录：docs/build/html\")"
      ]
    }
  ],
  "metadata": {
    "kernelspec": {
      "display_name": "Python 3",
      "language": "python",
      "name": "python3"
    },
    "language_info": {
      "name": "python",
      "version": "3.x"
    }
  },
  "nbformat": 4,
  "nbformat_minor": 5
}

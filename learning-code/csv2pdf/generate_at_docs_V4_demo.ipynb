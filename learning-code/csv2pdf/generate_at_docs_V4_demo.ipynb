{
 "cells": [
  {
   "cell_type": "markdown",
   "metadata": {},
   "source": [
    "# 📄 生成 AT 指令文档（最终模板调整版）"
   ]
  },
  {
   "cell_type": "code",
   "execution_count": 1,
   "metadata": {},
   "outputs": [
    {
     "name": "stdout",
     "output_type": "stream",
     "text": [
      "Requirement already satisfied: pandas in /Users/pika/Documents/GitHub/docs-as-code-learning/.venv/lib/python3.13/site-packages (2.3.3)\n",
      "Requirement already satisfied: jinja2 in /Users/pika/Documents/GitHub/docs-as-code-learning/.venv/lib/python3.13/site-packages (3.1.6)\n",
      "Requirement already satisfied: sphinx in /Users/pika/Documents/GitHub/docs-as-code-learning/.venv/lib/python3.13/site-packages (8.2.3)\n",
      "Requirement already satisfied: sphinx-rtd-theme in /Users/pika/Documents/GitHub/docs-as-code-learning/.venv/lib/python3.13/site-packages (3.0.2)\n",
      "Requirement already satisfied: numpy>=1.26.0 in /Users/pika/Documents/GitHub/docs-as-code-learning/.venv/lib/python3.13/site-packages (from pandas) (2.3.3)\n",
      "Requirement already satisfied: python-dateutil>=2.8.2 in /Users/pika/Documents/GitHub/docs-as-code-learning/.venv/lib/python3.13/site-packages (from pandas) (2.9.0.post0)\n",
      "Requirement already satisfied: pytz>=2020.1 in /Users/pika/Documents/GitHub/docs-as-code-learning/.venv/lib/python3.13/site-packages (from pandas) (2025.2)\n",
      "Requirement already satisfied: tzdata>=2022.7 in /Users/pika/Documents/GitHub/docs-as-code-learning/.venv/lib/python3.13/site-packages (from pandas) (2025.2)\n",
      "Requirement already satisfied: MarkupSafe>=2.0 in /Users/pika/Documents/GitHub/docs-as-code-learning/.venv/lib/python3.13/site-packages (from jinja2) (3.0.3)\n",
      "Requirement already satisfied: sphinxcontrib-applehelp>=1.0.7 in /Users/pika/Documents/GitHub/docs-as-code-learning/.venv/lib/python3.13/site-packages (from sphinx) (2.0.0)\n",
      "Requirement already satisfied: sphinxcontrib-devhelp>=1.0.6 in /Users/pika/Documents/GitHub/docs-as-code-learning/.venv/lib/python3.13/site-packages (from sphinx) (2.0.0)\n",
      "Requirement already satisfied: sphinxcontrib-htmlhelp>=2.0.6 in /Users/pika/Documents/GitHub/docs-as-code-learning/.venv/lib/python3.13/site-packages (from sphinx) (2.1.0)\n",
      "Requirement already satisfied: sphinxcontrib-jsmath>=1.0.1 in /Users/pika/Documents/GitHub/docs-as-code-learning/.venv/lib/python3.13/site-packages (from sphinx) (1.0.1)\n",
      "Requirement already satisfied: sphinxcontrib-qthelp>=1.0.6 in /Users/pika/Documents/GitHub/docs-as-code-learning/.venv/lib/python3.13/site-packages (from sphinx) (2.0.0)\n",
      "Requirement already satisfied: sphinxcontrib-serializinghtml>=1.1.9 in /Users/pika/Documents/GitHub/docs-as-code-learning/.venv/lib/python3.13/site-packages (from sphinx) (2.0.0)\n",
      "Requirement already satisfied: Pygments>=2.17 in /Users/pika/Documents/GitHub/docs-as-code-learning/.venv/lib/python3.13/site-packages (from sphinx) (2.19.2)\n",
      "Requirement already satisfied: docutils<0.22,>=0.20 in /Users/pika/Documents/GitHub/docs-as-code-learning/.venv/lib/python3.13/site-packages (from sphinx) (0.21.2)\n",
      "Requirement already satisfied: snowballstemmer>=2.2 in /Users/pika/Documents/GitHub/docs-as-code-learning/.venv/lib/python3.13/site-packages (from sphinx) (3.0.1)\n",
      "Requirement already satisfied: babel>=2.13 in /Users/pika/Documents/GitHub/docs-as-code-learning/.venv/lib/python3.13/site-packages (from sphinx) (2.17.0)\n",
      "Requirement already satisfied: alabaster>=0.7.14 in /Users/pika/Documents/GitHub/docs-as-code-learning/.venv/lib/python3.13/site-packages (from sphinx) (1.0.0)\n",
      "Requirement already satisfied: imagesize>=1.3 in /Users/pika/Documents/GitHub/docs-as-code-learning/.venv/lib/python3.13/site-packages (from sphinx) (1.4.1)\n",
      "Requirement already satisfied: requests>=2.30.0 in /Users/pika/Documents/GitHub/docs-as-code-learning/.venv/lib/python3.13/site-packages (from sphinx) (2.32.5)\n",
      "Requirement already satisfied: roman-numerals-py>=1.0.0 in /Users/pika/Documents/GitHub/docs-as-code-learning/.venv/lib/python3.13/site-packages (from sphinx) (3.1.0)\n",
      "Requirement already satisfied: packaging>=23.0 in /Users/pika/Documents/GitHub/docs-as-code-learning/.venv/lib/python3.13/site-packages (from sphinx) (25.0)\n",
      "Requirement already satisfied: sphinxcontrib-jquery<5,>=4 in /Users/pika/Documents/GitHub/docs-as-code-learning/.venv/lib/python3.13/site-packages (from sphinx-rtd-theme) (4.1)\n",
      "Requirement already satisfied: six>=1.5 in /Users/pika/Documents/GitHub/docs-as-code-learning/.venv/lib/python3.13/site-packages (from python-dateutil>=2.8.2->pandas) (1.17.0)\n",
      "Requirement already satisfied: charset_normalizer<4,>=2 in /Users/pika/Documents/GitHub/docs-as-code-learning/.venv/lib/python3.13/site-packages (from requests>=2.30.0->sphinx) (3.4.3)\n",
      "Requirement already satisfied: idna<4,>=2.5 in /Users/pika/Documents/GitHub/docs-as-code-learning/.venv/lib/python3.13/site-packages (from requests>=2.30.0->sphinx) (3.10)\n",
      "Requirement already satisfied: urllib3<3,>=1.21.1 in /Users/pika/Documents/GitHub/docs-as-code-learning/.venv/lib/python3.13/site-packages (from requests>=2.30.0->sphinx) (2.5.0)\n",
      "Requirement already satisfied: certifi>=2017.4.17 in /Users/pika/Documents/GitHub/docs-as-code-learning/.venv/lib/python3.13/site-packages (from requests>=2.30.0->sphinx) (2025.10.5)\n"
     ]
    }
   ],
   "source": [
    "!pip install pandas jinja2 sphinx sphinx-rtd-theme"
   ]
  },
  {
   "cell_type": "code",
   "execution_count": 2,
   "metadata": {},
   "outputs": [
    {
     "name": "stdout",
     "output_type": "stream",
     "text": [
      "✅ Sphinx 工程初始化完成\n"
     ]
    }
   ],
   "source": [
    "import os\n",
    "\n",
    "if not os.path.exists(\"docs/conf.py\"):\n",
    "    os.makedirs(\"docs/source/_static\", exist_ok=True)\n",
    "    with open(\"docs/conf.py\", \"w\", encoding=\"utf-8\") as f:\n",
    "        f.write('''\n",
    "import os\n",
    "import sys\n",
    "sys.path.insert(0, os.path.abspath('.'))\n",
    "\n",
    "project = 'AT Command Manual'\n",
    "author = 'Your Name'\n",
    "release = '1.0'\n",
    "\n",
    "extensions = []\n",
    "templates_path = ['_templates']\n",
    "exclude_patterns = []\n",
    "html_theme = 'sphinx_rtd_theme'\n",
    "html_static_path = ['_static']\n",
    "def setup(app):\n",
    "    app.add_css_file('custom.css')\n",
    "''')\n",
    "    with open(\"docs/source/_static/custom.css\", \"w\", encoding=\"utf-8\") as f:\n",
    "        f.write(\"body { font-family: 'Microsoft YaHei', sans-serif; }\")\n",
    "\n",
    "print(\"✅ Sphinx 工程初始化完成\")"
   ]
  },
  {
   "cell_type": "code",
   "execution_count": 3,
   "metadata": {},
   "outputs": [],
   "source": [
    "import pandas as pd\n",
    "import json\n",
    "from jinja2 import Environment\n",
    "from collections import defaultdict\n",
    "\n",
    "CSV_PATH = 'input.csv'\n",
    "OUTPUT_DIR = 'docs/source'\n",
    "\n",
    "TEMPLATE_STRING = \"\"\".. _cmd-{{ command_name | lower }}:\n",
    "\n",
    "{{ command_name }} — {{ command_title }}\n",
    "{{ '=' * (command_name|length + 3 + command_title|length) }}\n",
    "\n",
    "{{ description or '' }}\n",
    "\n",
    "执行命令\n",
    "^^^^^^^^\n",
    "\n",
    "**命令：**\n",
    "\n",
    "::\n",
    "\n",
    "    {{ command }}\n",
    "\n",
    "**响应：**\n",
    "\n",
    "::\n",
    "\n",
    "{% for line in response.splitlines() %}    {{ line }}\n",
    "{% endfor %}\n",
    "\n",
    "参数\n",
    "^^^^\n",
    "{% if parameters %}\n",
    "{% for p in parameters -%}\n",
    "-  **{{ p.name }}**：\n",
    "{% if p.valmap %}\n",
    "{% for key, value in p.valmap.items() %}\n",
    "   - {{ key }}：{{ value }}\n",
    "{% endfor %}\n",
    "{% else %}\n",
    "   {{ p.desc }}\n",
    "{% endif %}\n",
    "{% endfor %}\n",
    "{% else %}无\n",
    "{% endif %}\n",
    "\n",
    "\n",
    "说明\n",
    "^^^^\n",
    "{{ note or '无' }}\n",
    "\n",
    "示例命令\n",
    "^^^^^^^^\n",
    "\n",
    "::\n",
    "\n",
    "{% for line in example.splitlines() %}    {{ line }}\n",
    "{% endfor %}\n",
    "\"\"\"\n",
    "\n",
    "def safe_str(val):\n",
    "    return \"\" if pd.isna(val) else str(val).strip()"
   ]
  },
  {
   "cell_type": "code",
   "execution_count": 4,
   "metadata": {},
   "outputs": [
    {
     "name": "stdout",
     "output_type": "stream",
     "text": [
      "✅ 所有 RST 文件已生成完毕\n"
     ]
    }
   ],
   "source": [
    "df = pd.read_csv(CSV_PATH)\n",
    "df.columns = df.columns.str.strip()\n",
    "env = Environment()\n",
    "template = env.from_string(TEMPLATE_STRING)\n",
    "\n",
    "chapters = df.groupby('章节')\n",
    "chapter_commands = defaultdict(list)\n",
    "chapter_names = []\n",
    "\n",
    "for chapter, group in chapters:\n",
    "    chapter = safe_str(str(chapter))\n",
    "    chapter_dir = os.path.join(OUTPUT_DIR, chapter)\n",
    "    os.makedirs(chapter_dir, exist_ok=True)\n",
    "    chapter_names.append(chapter)\n",
    "\n",
    "    for _, row in group.iterrows():\n",
    "        cmd_name = safe_str(row['命令'])\n",
    "        out_path = os.path.join(chapter_dir, f\"{cmd_name}.rst\")\n",
    "\n",
    "        try:\n",
    "            params = json.loads(row['参数JSON'])\n",
    "        except:\n",
    "            params = []\n",
    "\n",
    "        content = template.render(\n",
    "            command_name=cmd_name,\n",
    "            command_title=safe_str(row['命令标题']),\n",
    "            command_type=safe_str(row['命令类型']),\n",
    "            command=safe_str(row['命令']),\n",
    "            response=safe_str(row['响应']),\n",
    "            description=safe_str(row['功能描述']),\n",
    "            note=safe_str(row['备注']),\n",
    "            parameters=params,\n",
    "            example=safe_str(row.get('示例命令', ''))\n",
    "        )\n",
    "\n",
    "        with open(out_path, 'w', encoding='utf-8') as f:\n",
    "            f.write(content)\n",
    "\n",
    "        chapter_commands[chapter].append(cmd_name)\n",
    "\n",
    "print(\"✅ 所有 RST 文件已生成完毕\")"
   ]
  },
  {
   "cell_type": "code",
   "execution_count": 5,
   "metadata": {},
   "outputs": [
    {
     "name": "stdout",
     "output_type": "stream",
     "text": [
      "✅ 所有章节和主目录 index.rst 已生成\n"
     ]
    }
   ],
   "source": [
    "from jinja2 import Template\n",
    "\n",
    "chapter_template = \"\"\"{{ chapter }}\n",
    "{{ '=' * chapter|length }}\n",
    "\n",
    ".. toctree::\n",
    "   :maxdepth: 1\n",
    "\n",
    "{% for cmd in commands %}   {{ cmd }}\n",
    "{% endfor %}\n",
    "\"\"\"\n",
    "\n",
    "main_template = \"\"\"AT 指令文档\n",
    "===============\n",
    "\n",
    ".. toctree::\n",
    "   :maxdepth: 1\n",
    "   :caption: 章节目录\n",
    "\n",
    "{% for ch in chapters %}   {{ ch }}/index\n",
    "{% endfor %}\n",
    "\"\"\"\n",
    "\n",
    "for chapter, commands in chapter_commands.items():\n",
    "    ch_index = os.path.join(OUTPUT_DIR, chapter, 'index.rst')\n",
    "    content = Template(chapter_template).render(chapter=chapter, commands=commands)\n",
    "    with open(ch_index, 'w', encoding='utf-8') as f:\n",
    "        f.write(content)\n",
    "\n",
    "main_index = os.path.join(OUTPUT_DIR, 'index.rst')\n",
    "main_content = Template(main_template).render(chapters=chapter_names)\n",
    "with open(main_index, 'w', encoding='utf-8') as f:\n",
    "    f.write(main_content)\n",
    "\n",
    "print(\"✅ 所有章节和主目录 index.rst 已生成\")"
   ]
  },
  {
   "cell_type": "code",
   "execution_count": 6,
   "metadata": {},
   "outputs": [
    {
     "name": "stdout",
     "output_type": "stream",
     "text": [
      "\u001b[01mRunning Sphinx v8.2.3\u001b[39;49;00m\n",
      "\u001b[01mloading translations [en]... \u001b[39;49;00mdone\n",
      "\u001b[01mmaking output directory... \u001b[39;49;00mdone\n",
      "\u001b[91mWARNING: html_static_path entry '_static' does not exist\u001b[39;49;00m\n",
      "\u001b[01mbuilding [mo]: \u001b[39;49;00mtargets for 0 po files that are out of date\n",
      "\u001b[01mwriting output... \u001b[39;49;00m\n",
      "\u001b[01mbuilding [html]: \u001b[39;49;00mtargets for 5 source files that are out of date\n",
      "\u001b[01mupdating environment: \u001b[39;49;00m[new config] 5 added, 0 changed, 0 removed\n",
      "\u001b[2K\u001b[01mreading sources... \u001b[39;49;00m[100%] \u001b[35mindex\u001b[39;49;00m;00m0m\n",
      "\u001b[91m/Users/pika/Documents/GitHub/docs-as-code-learning/learning-code/csv2pdf/docs/source/1.0/ATI.rst:4: WARNING: Title underline too short.\n",
      "\n",
      "ATI — 获取模组厂商信息\n",
      "============== [docutils]\u001b[39;49;00m\n",
      "\u001b[91m/Users/pika/Documents/GitHub/docs-as-code-learning/learning-code/csv2pdf/docs/source/2.0/AT+CSMS.rst:4: WARNING: Title underline too short.\n",
      "\n",
      "AT+CSMS — 选择短信服务\n",
      "================ [docutils]\u001b[39;49;00m\n",
      "\u001b[01mlooking for now-outdated files... \u001b[39;49;00mnone found\n",
      "\u001b[01mpickling environment... \u001b[39;49;00mdone\n",
      "\u001b[01mchecking consistency... \u001b[39;49;00mdone\n",
      "\u001b[01mpreparing documents... \u001b[39;49;00mdone\n",
      "\u001b[01mcopying assets... \u001b[39;49;00m\n",
      "\u001b[01mcopying static files... \u001b[39;49;00m\n",
      "Writing evaluated template result to /Users/pika/Documents/GitHub/docs-as-code-learning/learning-code/csv2pdf/docs/build/html/_static/basic.css\n",
      "Writing evaluated template result to /Users/pika/Documents/GitHub/docs-as-code-learning/learning-code/csv2pdf/docs/build/html/_static/language_data.js\n",
      "Writing evaluated template result to /Users/pika/Documents/GitHub/docs-as-code-learning/learning-code/csv2pdf/docs/build/html/_static/documentation_options.js\n",
      "Writing evaluated template result to /Users/pika/Documents/GitHub/docs-as-code-learning/learning-code/csv2pdf/docs/build/html/_static/js/versions.js\n",
      "\u001b[01mcopying static files: \u001b[39;49;00mdone\n",
      "\u001b[01mcopying extra files... \u001b[39;49;00m\n",
      "\u001b[01mcopying extra files: \u001b[39;49;00mdone\n",
      "\u001b[01mcopying assets: \u001b[39;49;00mdone\n",
      "\u001b[2K\u001b[01mwriting output... \u001b[39;49;00m[100%] \u001b[32m2.0/index\u001b[39;49;00m0m\u001b[32mindex\u001b[39;49;00m\n",
      "\u001b[01mgenerating indices... \u001b[39;49;00mgenindex done\n",
      "\u001b[01mwriting additional pages... \u001b[39;49;00msearch done\n",
      "\u001b[01mdumping search index in English (code: en)... \u001b[39;49;00mdone\n",
      "\u001b[01mdumping object inventory... \u001b[39;49;00mdone\n",
      "\u001b[01mbuild succeeded, 3 warnings.\u001b[39;49;00m\n",
      "\n",
      "The HTML pages are in docs/build/html.\n",
      "✅ HTML 构建完成，可在 docs/build/html/index.html 查看\n"
     ]
    }
   ],
   "source": [
    "!sphinx-build -b html docs/source docs/build/html -c docs\n",
    "print(\"✅ HTML 构建完成，可在 docs/build/html/index.html 查看\")"
   ]
  }
 ],
 "metadata": {
  "kernelspec": {
   "display_name": ".venv",
   "language": "python",
   "name": "python3"
  },
  "language_info": {
   "codemirror_mode": {
    "name": "ipython",
    "version": 3
   },
   "file_extension": ".py",
   "mimetype": "text/x-python",
   "name": "python",
   "nbconvert_exporter": "python",
   "pygments_lexer": "ipython3",
   "version": "3.13.7"
  }
 },
 "nbformat": 4,
 "nbformat_minor": 2
}

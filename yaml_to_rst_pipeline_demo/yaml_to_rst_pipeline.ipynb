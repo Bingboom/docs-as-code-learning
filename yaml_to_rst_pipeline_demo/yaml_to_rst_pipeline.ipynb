{
  "cells": [
    {
      "cell_type": "markdown",
      "metadata": {},
      "source": [
        "# 📘 YAML → RST 自动化生成 Pipeline\n",
        "本 Notebook 演示如何将结构化 YAML 文件转换为 reStructuredText (.rst)，以供 Sphinx 使用。"
      ]
    },
    {
      "cell_type": "code",
      "metadata": {},
      "source": [
        "import yaml, os\n",
        "\n",
        "# === 1. 读取 YAML ===\n",
        "with open('all_commands.yaml', 'r', encoding='utf-8') as f:\n",
        "    data = yaml.safe_load(f)\n",
        "commands = data['commands']\n",
        "\n",
        "# === 2. 生成 RST ===\n",
        "def generate_rst(cmd):\n",
        "    rst = []\n",
        "    rst.append(f\"{cmd['command']}\\n{'=' * len(cmd['command'])}\\n\")\n",
        "    rst.append(f\"**命令标题**：{cmd['title']}\\n\")\n",
        "    rst.append(f\"**命令类型**：{', '.join(cmd['type'])}\\n\\n\")\n",
        "    rst.append(\"命令格式::\\n\")\n",
        "    for fmt in cmd['formats']:\n",
        "        rst.append(f\"   {fmt}\")\n",
        "    rst.append(\"\")\n",
        "    rst.append(\"参数说明\\n--------\\n\")\n",
        "    rst.append(\".. list-table::\\n   :header-rows: 1\\n   :widths: 15 30 40\\n\")\n",
        "    rst.append(\"   * - 参数名\\n     - 描述\\n     - 取值\\n\")\n",
        "    for p in cmd.get('parameters', []):\n",
        "        values = '\\\\n'.join([f\"{k}: {v}\" for k, v in p['values'].items()])\n",
        "        rst.append(f\"   * - {p['name']}\\n     - {p['desc']}\\n     - {values}\")\n",
        "    rst.append(\"\")\n",
        "    rst.append(\"示例\\n----\\n\")\n",
        "    for ex in cmd.get('examples', []):\n",
        "        rst.append(f\".. code-block:: none\\n\\n   {ex['cmd']}\\n   {ex['resp']}\\n\")\n",
        "    rst.append(\"\")\n",
        "    rst.append(f\"**功能描述**：{cmd.get('description','')}\\n\\n\")\n",
        "    if cmd.get('notes'):\n",
        "        rst.append(f\"**注意**：{cmd['notes']}\\n\")\n",
        "    return '\\n'.join(rst)\n",
        "\n",
        "# === 3. 输出 RST 文件 ===\n",
        "os.makedirs('rst_output', exist_ok=True)\n",
        "for cmd in commands:\n",
        "    rst_text = generate_rst(cmd)\n",
        "    with open(f\"rst_output/{cmd['command']}.rst\", 'w', encoding='utf-8') as f:\n",
        "        f.write(rst_text)\n",
        "print('✅ 已生成 rst_output/*.rst')\n",
        "\n",
        "# === 4. 生成 index.rst ===\n",
        "index = ['AT 命令手册\\n==================\\n', '.. toctree::\\n   :maxdepth: 1\\n']\n",
        "for cmd in commands:\n",
        "    index.append(f\"   {cmd['command']}\")\n",
        "with open('rst_output/index.rst', 'w', encoding='utf-8') as f:\n",
        "    f.write('\\n'.join(index))\n",
        "print('✅ 已生成 rst_output/index.rst')"
      ]
    }
  ],
  "metadata": {
    "kernelspec": {
      "name": "python3",
      "display_name": "Python 3"
    },
    "language_info": {
      "name": "python",
      "version": "3.x"
    }
  },
  "nbformat": 4,
  "nbformat_minor": 5
}
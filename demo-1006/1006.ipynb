{
 "cells": [
  {
   "cell_type": "markdown",
   "metadata": {},
   "source": [
    "# 📘 AT 命令文档生成流水线\n",
    "## 从 CSV 到 HTML/PDF 的自动化解决方案"
   ]
  },
  {
   "cell_type": "markdown",
   "metadata": {},
   "source": [
    "### 🔹 Step 0: 环境初始化\n",
    "# 安装必要依赖包（首次运行时执行）"
   ]
  },
  {
   "cell_type": "code",
   "execution_count": 1,
   "metadata": {},
   "outputs": [],
   "source": [
    "# %%\n",
    "!pip install pandas pyyaml sphinx sphinx_rtd_theme --quiet"
   ]
  },
  {
   "cell_type": "markdown",
   "metadata": {},
   "source": [
    "### 🔹 Step 1: 准备 CSV 数据文件\n",
    "# 先创建示例数据文件 `commands.csv`（实际使用时替换为真实数据）"
   ]
  },
  {
   "cell_type": "code",
   "execution_count": 2,
   "metadata": {},
   "outputs": [
    {
     "name": "stdout",
     "output_type": "stream",
     "text": [
      "✅ 已生成示例数据文件: commands.csv\n"
     ]
    }
   ],
   "source": [
    "# %%\n",
    "import pandas as pd\n",
    "# 创建示例数据\n",
    "data = {\n",
    "    \"命令\": [\"AT+CREG\", \"AT+CWJAP\"],\n",
    "    \"命令标题\": [\"查询网络注册状态\", \"连接WiFi网络\"],\n",
    "    \"命令类型\": [\"执行;查询;测试\", \"设置;查询\"],\n",
    "    \"命令格式\": [\"AT+CREG=[<n>]|AT+CREG?|AT+CREG=?\", \"AT+CWJAP=<ssid>,<pwd>[,<bssid>][,<prio>]|AT+CWJAP?\"],\n",
    "    \"示例命令\": [\"AT+CREG=1|AT+CREG?|AT+CREG=?\", 'AT+CWJAP=\"MyWiFi\",\"123456\"|AT+CWJAP?'],\n",
    "    \"示例响应\": [\"OK|+CREG: 0,1 OK|+CREG: (0-2) OK\", 'OK|+CWJAP:\"MyWiFi\",\"aa:bb:cc:dd:ee:ff\",-50,1 OK'],\n",
    "    \"功能描述\": [\"查询或控制模块的网络注册状态\", \"连接到指定WiFi网络\"],\n",
    "    \"备注\": [\"AT+CREG=5 返回 ERROR（参数超出范围）\", \"密码需为8-64字节ASCII字符\"],\n",
    "    \"参数JSON\": [\n",
    "        # 正确格式：values是字典\n",
    "        '[{\"name\":\"<n>\",\"desc\":\"控制结果代码输出方式\",\"values\":{\"0\":\"禁用上报\",\"1\":\"启用上报\",\"2\":\"上报并包含LAC/CI信息\"}},{\"name\":\"<stat>\",\"desc\":\"网络注册状态\",\"values\":{\"0\":\"未注册\",\"1\":\"已注册本地网络\",\"2\":\"正在搜索\"}}]',\n",
    "        # 修复WiFi参数的values格式\n",
    "        '[{\"name\":\"<ssid>\",\"desc\":\"WiFi名称\",\"values\":{\"格式\":\"字符串\",\"长度\":\"1-32字节\"}},{\"name\":\"<pwd>\",\"desc\":\"WiFi密码\",\"values\":{\"格式\":\"ASCII字符\",\"长度\":\"8-64字节\"}}]'\n",
    "    ]\n",
    "}\n",
    "# 保存为CSV文件\n",
    "pd.DataFrame(data).to_csv(\"commands.csv\", index=False, encoding=\"utf-8\")\n",
    "print(\"✅ 已生成示例数据文件: commands.csv\")"
   ]
  },
  {
   "cell_type": "markdown",
   "metadata": {},
   "source": [
    "### 🔹 Step 2: CSV 转 YAML/JSON\n",
    "# 将表格数据转换为结构化配置文件"
   ]
  },
  {
   "cell_type": "code",
   "execution_count": 3,
   "metadata": {},
   "outputs": [
    {
     "name": "stdout",
     "output_type": "stream",
     "text": [
      "✅ 生成 2 个命令数据文件:\n",
      "- 单个命令JSON: data/*.json\n",
      "- 汇总YAML: all_commands.yaml\n"
     ]
    }
   ],
   "source": [
    "# %%\n",
    "import pandas as pd\n",
    "import json\n",
    "import yaml\n",
    "import os\n",
    "# 创建数据目录\n",
    "os.makedirs(\"data\", exist_ok=True)\n",
    "# 读取CSV文件\n",
    "df = pd.read_csv(\"commands.csv\")\n",
    "cmd_objects = []\n",
    "# 转换为结构化数据\n",
    "for _, row in df.iterrows():\n",
    "    # 解析参数JSON\n",
    "    param_json = json.loads(row[\"参数JSON\"])\n",
    "    \n",
    "    # 构建命令对象\n",
    "    cmd_data = {\n",
    "        \"command\": row[\"命令\"],\n",
    "        \"title\": row[\"命令标题\"],\n",
    "        \"type\": [t.strip() for t in row[\"命令类型\"].split(\";\")],\n",
    "        \"formats\": [f.strip() for f in row[\"命令格式\"].split(\"|\")],\n",
    "        \"parameters\": param_json,\n",
    "        \"examples\": [\n",
    "            {\"cmd\": c.strip(), \"resp\": r.strip()}\n",
    "            for c, r in zip(row[\"示例命令\"].split(\"|\"), row[\"示例响应\"].split(\"|\"))\n",
    "        ],\n",
    "        \"description\": row[\"功能描述\"],\n",
    "        \"notes\": row[\"备注\"]\n",
    "    }\n",
    "    cmd_objects.append(cmd_data)\n",
    "    \n",
    "    # 保存单个命令JSON\n",
    "    with open(f\"data/{row['命令']}.json\", \"w\", encoding=\"utf-8\") as f:\n",
    "        json.dump(cmd_data, f, ensure_ascii=False, indent=2)\n",
    "# 保存所有命令YAML\n",
    "with open(\"all_commands.yaml\", \"w\", encoding=\"utf-8\") as f:\n",
    "    yaml.safe_dump({\"commands\": cmd_objects}, f, allow_unicode=True, sort_keys=False)\n",
    "print(f\"✅ 生成 {len(cmd_objects)} 个命令数据文件:\")\n",
    "print(f\"- 单个命令JSON: data/*.json\")\n",
    "print(f\"- 汇总YAML: all_commands.yaml\")"
   ]
  },
  {
   "cell_type": "markdown",
   "metadata": {},
   "source": [
    "### 🔹 Step 3: YAML 转 reStructuredText (RST)\n",
    "# 生成 Sphinx 所需的结构化文档源文件"
   ]
  },
  {
   "cell_type": "code",
   "execution_count": 4,
   "metadata": {},
   "outputs": [
    {
     "ename": "AttributeError",
     "evalue": "'str' object has no attribute 'items'",
     "output_type": "error",
     "traceback": [
      "\u001b[31m---------------------------------------------------------------------------\u001b[39m",
      "\u001b[31mAttributeError\u001b[39m                            Traceback (most recent call last)",
      "\u001b[36mCell\u001b[39m\u001b[36m \u001b[39m\u001b[32mIn[4]\u001b[39m\u001b[32m, line 46\u001b[39m\n\u001b[32m     44\u001b[39m \u001b[38;5;66;03m# 生成命令RST文件\u001b[39;00m\n\u001b[32m     45\u001b[39m \u001b[38;5;28;01mfor\u001b[39;00m cmd \u001b[38;5;129;01min\u001b[39;00m commands:\n\u001b[32m---> \u001b[39m\u001b[32m46\u001b[39m     rst_content = \u001b[43mgenerate_command_rst\u001b[49m\u001b[43m(\u001b[49m\u001b[43mcmd\u001b[49m\u001b[43m)\u001b[49m\n\u001b[32m     47\u001b[39m     \u001b[38;5;28;01mwith\u001b[39;00m \u001b[38;5;28mopen\u001b[39m(\u001b[33mf\u001b[39m\u001b[33m\"\u001b[39m\u001b[33mrst_output/\u001b[39m\u001b[38;5;132;01m{\u001b[39;00mcmd[\u001b[33m'\u001b[39m\u001b[33mcommand\u001b[39m\u001b[33m'\u001b[39m]\u001b[38;5;132;01m}\u001b[39;00m\u001b[33m.rst\u001b[39m\u001b[33m\"\u001b[39m, \u001b[33m\"\u001b[39m\u001b[33mw\u001b[39m\u001b[33m\"\u001b[39m, encoding=\u001b[33m\"\u001b[39m\u001b[33mutf-8\u001b[39m\u001b[33m\"\u001b[39m) \u001b[38;5;28;01mas\u001b[39;00m f:\n\u001b[32m     48\u001b[39m         f.write(rst_content)\n",
      "\u001b[36mCell\u001b[39m\u001b[36m \u001b[39m\u001b[32mIn[4]\u001b[39m\u001b[32m, line 28\u001b[39m, in \u001b[36mgenerate_command_rst\u001b[39m\u001b[34m(cmd)\u001b[39m\n\u001b[32m     26\u001b[39m rst.append(\u001b[33m\"\u001b[39m\u001b[33m   * - 参数名\u001b[39m\u001b[38;5;130;01m\\n\u001b[39;00m\u001b[33m     - 描述\u001b[39m\u001b[38;5;130;01m\\n\u001b[39;00m\u001b[33m     - 取值范围\u001b[39m\u001b[38;5;130;01m\\n\u001b[39;00m\u001b[33m\"\u001b[39m)\n\u001b[32m     27\u001b[39m \u001b[38;5;28;01mfor\u001b[39;00m p \u001b[38;5;129;01min\u001b[39;00m cmd[\u001b[33m\"\u001b[39m\u001b[33mparameters\u001b[39m\u001b[33m\"\u001b[39m]:\n\u001b[32m---> \u001b[39m\u001b[32m28\u001b[39m     values = \u001b[33m\"\u001b[39m\u001b[38;5;130;01m\\n\u001b[39;00m\u001b[33m\"\u001b[39m.join([\u001b[33mf\u001b[39m\u001b[33m\"\u001b[39m\u001b[38;5;132;01m{\u001b[39;00mk\u001b[38;5;132;01m}\u001b[39;00m\u001b[33m: \u001b[39m\u001b[38;5;132;01m{\u001b[39;00mv\u001b[38;5;132;01m}\u001b[39;00m\u001b[33m\"\u001b[39m \u001b[38;5;28;01mfor\u001b[39;00m k, v \u001b[38;5;129;01min\u001b[39;00m \u001b[43mp\u001b[49m\u001b[43m[\u001b[49m\u001b[33;43m\"\u001b[39;49m\u001b[33;43mvalues\u001b[39;49m\u001b[33;43m\"\u001b[39;49m\u001b[43m]\u001b[49m\u001b[43m.\u001b[49m\u001b[43mitems\u001b[49m()])\n\u001b[32m     29\u001b[39m     rst.append(\u001b[33mf\u001b[39m\u001b[33m\"\u001b[39m\u001b[33m   * - \u001b[39m\u001b[38;5;132;01m{\u001b[39;00mp[\u001b[33m'\u001b[39m\u001b[33mname\u001b[39m\u001b[33m'\u001b[39m]\u001b[38;5;132;01m}\u001b[39;00m\u001b[38;5;130;01m\\n\u001b[39;00m\u001b[33m     - \u001b[39m\u001b[38;5;132;01m{\u001b[39;00mp[\u001b[33m'\u001b[39m\u001b[33mdesc\u001b[39m\u001b[33m'\u001b[39m]\u001b[38;5;132;01m}\u001b[39;00m\u001b[38;5;130;01m\\n\u001b[39;00m\u001b[33m     - \u001b[39m\u001b[38;5;132;01m{\u001b[39;00mvalues\u001b[38;5;132;01m}\u001b[39;00m\u001b[38;5;130;01m\\n\u001b[39;00m\u001b[33m\"\u001b[39m)\n\u001b[32m     31\u001b[39m \u001b[38;5;66;03m# 示例代码块\u001b[39;00m\n",
      "\u001b[31mAttributeError\u001b[39m: 'str' object has no attribute 'items'"
     ]
    }
   ],
   "source": [
    "# %%\n",
    "import yaml\n",
    "import os\n",
    "# 创建输出目录\n",
    "os.makedirs(\"rst_output\", exist_ok=True)\n",
    "# 加载YAML数据\n",
    "with open(\"all_commands.yaml\", \"r\", encoding=\"utf-8\") as f:\n",
    "    commands = yaml.safe_load(f)[\"commands\"]\n",
    "# RST生成函数\n",
    "# 修改 Step 3 中的 generate_command_rst 函数，添加参数验证\n",
    "def generate_command_rst(cmd):\n",
    "    rst = [\n",
    "        f\"{cmd['command']}\\n\",\n",
    "        f\"{'=' * len(cmd['command'])}\\n\\n\",\n",
    "        f\"**命令标题**：{cmd['title']}\\n\\n\",\n",
    "        f\"**命令类型**：{', '.join(cmd['type'])}\\n\\n\",\n",
    "        \"命令格式::\\n\"\n",
    "    ]\n",
    "    for fmt in cmd[\"formats\"]:\n",
    "        rst.append(f\"  {fmt}\\n\")\n",
    "    \n",
    "    # 参数说明表格（添加错误处理）\n",
    "    rst.append(\"\\n参数说明\\n--------\\n\")\n",
    "    rst.append(\".. list-table::\\n\")\n",
    "    rst.append(\"   :header-rows: 1\\n\")\n",
    "    rst.append(\"   :widths: 15 30 45\\n\\n\")\n",
    "    rst.append(\"   * - 参数名\\n     - 描述\\n     - 取值范围\\n\")\n",
    "    \n",
    "    for p in cmd[\"parameters\"]:\n",
    "        # 验证 values 类型并处理\n",
    "        if isinstance(p[\"values\"], dict):\n",
    "            # 正常字典格式\n",
    "            values = \"\\n\".join([f\"{k}: {v}\" for k, v in p[\"values\"].items()])\n",
    "        elif isinstance(p[\"values\"], str):\n",
    "            # 字符串格式（添加警告提示）\n",
    "            values = p[\"values\"] + \" ⚠️ [格式警告：应为键值对]\"\n",
    "        else:\n",
    "            values = \"格式错误\"\n",
    "        \n",
    "        rst.append(f\"   * - {p['name']}\\n     - {p['desc']}\\n     - {values}\\n\")\n",
    "    \n",
    "    # 示例代码块（保持不变）\n",
    "    rst.append(\"\\n示例\\n----\\n\")\n",
    "    for ex in cmd[\"examples\"]:\n",
    "        rst.append(\".. code-block:: none\\n\\n\")\n",
    "        rst.append(f\"   命令: {ex['cmd']}\\n\")\n",
    "        rst.append(f\"   响应: {ex['resp']}\\n\\n\")\n",
    "    \n",
    "    # 功能描述和备注（保持不变）\n",
    "    rst.append(f\"**功能描述**：{cmd['description']}\\n\\n\")\n",
    "    if cmd[\"notes\"]:\n",
    "        rst.append(f\"**注意事项**：{cmd['notes']}\\n\")\n",
    "    \n",
    "    return \"\".join(rst)\n",
    "# 生成命令RST文件\n",
    "for cmd in commands:\n",
    "    rst_content = generate_command_rst(cmd)\n",
    "    with open(f\"rst_output/{cmd['command']}.rst\", \"w\", encoding=\"utf-8\") as f:\n",
    "        f.write(rst_content)\n",
    "# 生成索引RST\n",
    "index_rst = [\n",
    "    \"AT 命令手册\\n\",\n",
    "    \"==================\\n\\n\",\n",
    "    \".. toctree::\\n\",\n",
    "    \"   :maxdepth: 2\\n\",\n",
    "    \"   :caption: 命令列表\\n\\n\"\n",
    "]\n",
    "for cmd in commands:\n",
    "    index_rst.append(f\"   {cmd['command']}\\n\")\n",
    "with open(\"rst_output/index.rst\", \"w\", encoding=\"utf-8\") as f:\n",
    "    f.write(\"\".join(index_rst))\n",
    "print(f\"✅ 生成 RST 文档:\")\n",
    "print(f\"- 命令文档: rst_output/*.rst\")\n",
    "print(f\"- 索引文件: rst_output/index.rst\")"
   ]
  },
  {
   "cell_type": "markdown",
   "metadata": {},
   "source": [
    "### 🔹 Step 4: 初始化 Sphinx 项目\n",
    "# 创建文档工程并配置主题"
   ]
  },
  {
   "cell_type": "code",
   "execution_count": null,
   "metadata": {},
   "outputs": [],
   "source": [
    "# %%\n",
    "# 初始化Sphinx项目\n",
    "!sphinx-quickstart docs --sep --project \"AT Command Manual\" --author \"有方科技\" --release \"1.0\" -q\n",
    "# 修改配置文件 (conf.py)\n",
    "import fileinput\n",
    "import os\n",
    "conf_path = \"docs/source/conf.py\"\n",
    "lines = []\n",
    "with open(conf_path, \"r\", encoding=\"utf-8\") as f:\n",
    "    lines = f.readlines()\n",
    "# 更新配置内容\n",
    "new_lines = []\n",
    "for line in lines:\n",
    "    if line.startswith(\"html_theme =\"):\n",
    "        new_lines.append(\"html_theme = 'sphinx_rtd_theme'\\n\")\n",
    "    elif line.startswith(\"import sys\"):\n",
    "        new_lines.append(line)\n",
    "        new_lines.append(\"import os\\n\")\n",
    "        new_lines.append(\"sys.path.insert(0, os.path.abspath('../..'))\\n\")\n",
    "    else:\n",
    "        new_lines.append(line)\n",
    "with open(conf_path, \"w\", encoding=\"utf-8\") as f:\n",
    "    f.writelines(new_lines)\n",
    "print(\"✅ Sphinx项目初始化完成:\")\n",
    "print(\"- 项目路径: docs/\")\n",
    "print(\"- 配置文件: docs/source/conf.py\")"
   ]
  },
  {
   "cell_type": "markdown",
   "metadata": {},
   "source": [
    "### 🔹 Step 5: 构建 HTML 文档\n",
    "# 将 RST 文件编译为可浏览的 HTML 格式"
   ]
  },
  {
   "cell_type": "code",
   "execution_count": null,
   "metadata": {},
   "outputs": [],
   "source": [
    "# %%\n",
    "# 复制RST文件到Sphinx源目录\n",
    "!cp -r rst_output/* docs/source/"
   ]
  },
  {
   "cell_type": "code",
   "execution_count": null,
   "metadata": {},
   "outputs": [],
   "source": [
    "# 构建HTML文档\n",
    "!make -C docs html\n",
    "print(\"\\n✅ HTML文档构建完成:\")\n",
    "print(f\"打开查看: file://{os.getcwd()}/docs/build/html/index.html\")"
   ]
  },
  {
   "cell_type": "markdown",
   "metadata": {},
   "source": [
    "### 🔹 Step 6 (可选): 构建 PDF 文档\n",
    "# 需要安装TeXLive环境（仅Linux环境支持）"
   ]
  },
  {
   "cell_type": "code",
   "execution_count": null,
   "metadata": {},
   "outputs": [],
   "source": [
    "# %%\n",
    "# # 安装依赖 (仅首次运行)\n",
    "# !sudo apt-get install texlive-xetex -y --quiet"
   ]
  },
  {
   "cell_type": "code",
   "execution_count": null,
   "metadata": {},
   "outputs": [],
   "source": [
    "# # 构建PDF文档\n",
    "# !make -C docs latexpdf\n",
    "# print(\"\\n✅ PDF文档构建完成:\")\n",
    "# print(f\"文件路径: docs/build/latex/atcommandmanual.pdf\")"
   ]
  }
 ],
 "metadata": {
  "kernelspec": {
   "display_name": ".venv",
   "language": "python",
   "name": "python3"
  },
  "language_info": {
   "codemirror_mode": {
    "name": "ipython",
    "version": 3
   },
   "file_extension": ".py",
   "mimetype": "text/x-python",
   "name": "python",
   "nbconvert_exporter": "python",
   "pygments_lexer": "ipython3",
   "version": "3.13.7"
  }
 },
 "nbformat": 4,
 "nbformat_minor": 2
}

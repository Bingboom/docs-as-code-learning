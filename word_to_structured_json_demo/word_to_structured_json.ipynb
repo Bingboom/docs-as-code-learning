{
  "cells": [
    {
      "cell_type": "markdown",
      "metadata": {},
      "source": [
        "# 📘 Word → Structured JSON/YAML Pipeline\n",
        "本 Notebook 演示如何将人工整理的 CSV（含 JSON 列）转换为结构化 JSON 文件和 YAML 汇总。"
      ]
    },
    {
      "cell_type": "code",
      "metadata": {},
      "source": [
        "import pandas as pd, json, yaml, os\n",
        "\n",
        "# 读取 CSV\n",
        "df = pd.read_csv('commands.csv')\n",
        "os.makedirs('data', exist_ok=True)\n",
        "cmd_objects = []\n",
        "\n",
        "for _, row in df.iterrows():\n",
        "    param_json = json.loads(row['参数JSON'])\n",
        "    cmd_data = {\n",
        "        'command': row['命令'],\n",
        "        'title': row['命令标题'],\n",
        "        'type': [t.strip() for t in row['命令类型'].split(';')],\n",
        "        'formats': [f.strip() for f in row['命令格式'].split('|')],\n",
        "        'parameters': param_json,\n",
        "        'examples': [\n",
        "            {'cmd': c.strip(), 'resp': r.strip()}\n",
        "            for c, r in zip(row['示例命令'].split('|'), row['示例响应'].split('|'))\n",
        "        ],\n",
        "        'description': row['功能描述'],\n",
        "        'notes': row['备注']\n",
        "    }\n",
        "    cmd_objects.append(cmd_data)\n",
        "\n",
        "    # 写入单独 JSON 文件\n",
        "    with open(f\"data/{row['命令']}.json\", 'w', encoding='utf-8') as f:\n",
        "        json.dump(cmd_data, f, ensure_ascii=False, indent=2)\n",
        "\n",
        "# 汇总导出 YAML\n",
        "with open('all_commands.yaml', 'w', encoding='utf-8') as f:\n",
        "    yaml.safe_dump({'commands': cmd_objects}, f, allow_unicode=True, sort_keys=False)\n",
        "\n",
        "print('✅ 已生成 data/*.json 和 all_commands.yaml')"
      ]
    }
  ],
  "metadata": {
    "kernelspec": {
      "name": "python3",
      "display_name": "Python 3"
    },
    "language_info": {
      "name": "python",
      "version": "3.x"
    }
  },
  "nbformat": 4,
  "nbformat_minor": 5
}
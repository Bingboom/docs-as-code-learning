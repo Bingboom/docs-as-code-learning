{
 "cells": [
  {
   "cell_type": "markdown",
   "metadata": {},
   "source": [
    "# 📘 Word 文档 → 文档代码化写作 Demo（增强版）\n",
    "本 Notebook 演示如何将 Word 文档内容结构化，并用代码自动生成文档，并支持 **Pandoc 转 PDF**。"
   ]
  },
  {
   "cell_type": "code",
   "execution_count": null,
   "metadata": {},
   "outputs": [],
   "source": [
    "# 安装依赖（首次运行时需要）\n",
    "!pip install pyyaml jinja2\n",
    "!apt-get update && apt-get install -y pandoc texlive-xetex"
   ]
  },
  {
   "cell_type": "markdown",
   "metadata": {},
   "source": [
    "## 第一步：准备数据 (products.yaml)\n",
    "在传统 Word 文档里，你可能直接写：\n",
    "```\n",
    "N706B 模块 AT 指令手册\n",
    "波特率：115200\n",
    "命令：AT+CSQ → 查询信号强度\n",
    "```\n",
    "现在我们把它转成结构化数据："
   ]
  },
  {
   "cell_type": "code",
   "execution_count": null,
   "metadata": {},
   "outputs": [],
   "source": [
    "import yaml\n",
    "\n",
    "yaml_content = \"\"\"\n",
    "products:\n",
    "  - name: N706B\n",
    "    version: V1.0\n",
    "    baud_rate: 115200\n",
    "    commands:\n",
    "      - cmd: AT+CSQ\n",
    "        desc: 查询信号强度\n",
    "        example: \"+CSQ: 25,0\"\n",
    "  - name: N58-GL\n",
    "    version: V2.0\n",
    "    baud_rate: 921600\n",
    "    commands:\n",
    "      - cmd: AT+CGATT\n",
    "        desc: 网络附着\n",
    "        example: \"+CGATT: 1\"\n",
    "\"\"\"\n",
    "\n",
    "with open(\"products.yaml\", \"w\", encoding=\"utf-8\") as f:\n",
    "    f.write(yaml_content)\n",
    "\n",
    "data = yaml.safe_load(yaml_content)\n",
    "data"
   ]
  },
  {
   "cell_type": "markdown",
   "metadata": {},
   "source": [
    "## 第二步：准备模板\n",
    "用 Jinja2 模板定义文档的结构，而不是直接在 Word 里排版。"
   ]
  },
  {
   "cell_type": "code",
   "execution_count": null,
   "metadata": {},
   "outputs": [],
   "source": [
    "from jinja2 import Template\n",
    "\n",
    "template_str = \"\"\"\n",
    "{{ name }} 模块 AT 指令手册 (版本 {{ version }})\n",
    "========================================\n",
    "\n",
    "基础信息\n",
    "--------\n",
    "* 型号: {{ name }}\n",
    "* 波特率: {{ baud_rate }}\n",
    "\n",
    "支持命令\n",
    "--------\n",
    "| 指令   | 功能描述       | 示例响应 |\n",
    "|--------|----------------|----------|\n",
    "{% for c in commands %}| {{ c.cmd }} | {{ c.desc }} | {{ c.example }} |\n",
    "{% endfor %}\n",
    "\"\"\"\n",
    "\n",
    "template = Template(template_str)"
   ]
  },
  {
   "cell_type": "markdown",
   "metadata": {},
   "source": [
    "## 第三步：生成 Markdown 文档 + PDF\n",
    "循环读取 YAML 数据，用模板渲染输出 Markdown 文本，并直接用 Pandoc 转 PDF。"
   ]
  },
  {
   "cell_type": "code",
   "execution_count": null,
   "metadata": {},
   "outputs": [],
   "source": [
    "import subprocess\n",
    "\n",
    "for product in data[\"products\"]:\n",
    "    md_output = template.render(**product)\n",
    "    md_file = f\"{product['name']}_manual.md\"\n",
    "    pdf_file = f\"{product['name']}_manual.pdf\"\n",
    "    \n",
    "    # 保存 Markdown 文件\n",
    "    with open(md_file, \"w\", encoding=\"utf-8\") as f:\n",
    "        f.write(md_output)\n",
    "    print(f\"生成 Markdown: {md_file}\")\n",
    "\n",
    "    # 调用 Pandoc 转 PDF\n",
    "    try:\n",
    "        subprocess.run([\"pandoc\", md_file, \"-o\", pdf_file, \"--pdf-engine=xelatex\"], check=True)\n",
    "        print(f\"✅ 已生成 PDF: {pdf_file}\")\n",
    "    except Exception as e:\n",
    "        print(f\"❌ 生成 PDF 失败: {e}\")\n",
    "    \n",
    "    print(\"-\"*40)"
   ]
  },
  {
   "cell_type": "markdown",
   "metadata": {},
   "source": [
    "## 第四步：下一步拓展\n",
    "- 现在可以一键从 YAML → Markdown → PDF。\n",
    "- 你可以把 `products.yaml` 替换为任意产品参数，快速生成标准化手册。\n",
    "- 下一步可以扩展到 Sphinx / DITA-OT，实现大规模文档编译。"
   ]
  }
 ],
 "metadata": {
  "kernelspec": {
   "display_name": "Python 3",
   "language": "python",
   "name": "python3"
  },
  "language_info": {
   "file_extension": ".py",
   "mimetype": "text/x-python",
   "name": "python",
   "version": "3.10"
  }
 },
 "nbformat": 4,
 "nbformat_minor": 5
}
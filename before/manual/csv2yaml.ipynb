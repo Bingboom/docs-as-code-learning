import pandas as pd
import yaml

df = pd.read_csv("at_commands.csv", dtype=str).fillna("")
rows = []
for _, r in df.iterrows():
    params = [p.strip() for p in r['参数名'].split(';')] if r['参数名'] else []
    param_desc = [d.strip() for d in r['参数说明'].split(';')] if r['参数说明'] else []
    param_enum = [e.strip() for e in r['参数取值/枚举'].split(';')] if r['参数取值/枚举'] else []
    examples = [e.strip() for e in r['示例命令'].split('|')] if r['示例命令'] else []
    example_resps = [e.strip() for e in r['示例响应'].split('|')] if r['示例响应'] else []

    params_struct = []
    for i, pname in enumerate(params):
        pdsc = param_desc[i] if i < len(param_desc) else ""
        penum = param_enum[i] if i < len(param_enum) else ""
        params_struct.append({"name": pname, "desc": pdsc, "enum": penum})

    examples_struct = []
    for i, ex in enumerate(examples):
        eres = example_resps[i] if i < len(example_resps) else ""
        examples_struct.append({"cmd": ex, "resp": eres})

    cmdobj = {
        "command": r['命令'],
        "title": r['命令标题'],
        "types": [t.strip() for t in r['命令类型'].split(';')] if r['命令类型'] else [],
        "formats": [f.strip() for f in r['命令格式'].split('|')] if r['命令格式'] else [],
        "responses": [f.strip() for f in r['响应格式'].split('|')] if r['响应格式'] else [],
        "parameters": params_struct,
        "examples": examples_struct,
        "description": r['功能描述'],
        "notes": r['错误/注意'],
        "remarks": r.get('备注', "")
    }
    rows.append(cmdobj)

# 导出为 YAML
with open("at_commands.yaml", "w", encoding="utf-8") as f:
    yaml.safe_dump({"commands": rows}, f, allow_unicode=True)

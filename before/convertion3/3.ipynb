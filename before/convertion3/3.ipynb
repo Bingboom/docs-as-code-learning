{
 "cells": [
  {
   "cell_type": "code",
   "execution_count": 1,
   "id": "c7102e0f",
   "metadata": {},
   "outputs": [
    {
     "name": "stdout",
     "output_type": "stream",
     "text": [
      "Requirement already satisfied: python-docx in c:\\users\\txiab\\documents\\git-folder\\building-docs\\docs-as-code-learning\\.venv\\lib\\site-packages (1.2.0)\n",
      "Requirement already satisfied: pandas in c:\\users\\txiab\\documents\\git-folder\\building-docs\\docs-as-code-learning\\.venv\\lib\\site-packages (2.3.3)\n",
      "Requirement already satisfied: pyyaml in c:\\users\\txiab\\documents\\git-folder\\building-docs\\docs-as-code-learning\\.venv\\lib\\site-packages (6.0.3)\n",
      "Requirement already satisfied: lxml>=3.1.0 in c:\\users\\txiab\\documents\\git-folder\\building-docs\\docs-as-code-learning\\.venv\\lib\\site-packages (from python-docx) (6.0.2)\n",
      "Requirement already satisfied: typing_extensions>=4.9.0 in c:\\users\\txiab\\documents\\git-folder\\building-docs\\docs-as-code-learning\\.venv\\lib\\site-packages (from python-docx) (4.15.0)\n",
      "Requirement already satisfied: numpy>=1.26.0 in c:\\users\\txiab\\documents\\git-folder\\building-docs\\docs-as-code-learning\\.venv\\lib\\site-packages (from pandas) (2.3.3)\n",
      "Requirement already satisfied: python-dateutil>=2.8.2 in c:\\users\\txiab\\documents\\git-folder\\building-docs\\docs-as-code-learning\\.venv\\lib\\site-packages (from pandas) (2.9.0.post0)\n",
      "Requirement already satisfied: pytz>=2020.1 in c:\\users\\txiab\\documents\\git-folder\\building-docs\\docs-as-code-learning\\.venv\\lib\\site-packages (from pandas) (2025.2)\n",
      "Requirement already satisfied: tzdata>=2022.7 in c:\\users\\txiab\\documents\\git-folder\\building-docs\\docs-as-code-learning\\.venv\\lib\\site-packages (from pandas) (2025.2)\n",
      "Requirement already satisfied: six>=1.5 in c:\\users\\txiab\\documents\\git-folder\\building-docs\\docs-as-code-learning\\.venv\\lib\\site-packages (from python-dateutil>=2.8.2->pandas) (1.17.0)\n"
     ]
    }
   ],
   "source": [
    "!pip install python-docx pandas pyyaml"
   ]
  },
  {
   "cell_type": "code",
   "execution_count": 2,
   "id": "f7533911",
   "metadata": {},
   "outputs": [
    {
     "name": "stdout",
     "output_type": "stream",
     "text": [
      "通用AT指令\n",
      "ATI：获取模组厂商信息\n",
      "获取模组厂商信息，包括厂家、型号和版本。\n",
      "命令格式\n",
      "参数\n",
      "示例\n",
      "AT+GMR：查询版本信息\n",
      "查询软件版本信息。\n",
      "命令格式\n",
      "参数\n",
      "示例\n",
      "AT+CSQ：获取信号强度\n",
      "查询接收信号强度<rssi>。\n",
      "命令格式\n",
      "参数\n",
      "示例\n",
      "AT+CREG：查询网络注册状态\n",
      "查询模组的当前网络注册状态。\n",
      "命令格式\n",
      "参数\n",
      "示例\n",
      "AT+CEREG：获取EPS网络注册状态\n",
      "查询EPS网络注册状态。\n",
      "命令格式\n",
      "参数\n",
      "示例\n",
      "AT+COPS：网络选择\n",
      "查询网络。\n",
      "命令格式\n",
      "参数\n",
      "示例\n",
      "AT+CIMI：查询国际移动用户识别码\n",
      "获取国际移动用户识别码IMSI（international mobile subscriber identification）。\n",
      "命令格式\n",
      "参数\n",
      "示例\n",
      "AT+CGSN：获取通信模组IMEI号\n",
      "获取模组的产品序列号，也就是IMEI号（International Mobile Equipment Identity）。\n",
      "命令格式\n",
      "参数\n",
      "示例\n",
      "AT+GSN：获取通信模组IMEI号\n",
      "获取模组的产品序列号，也就是IMEI号（International Mobile Equip\n"
     ]
    }
   ],
   "source": [
    "from docx import Document\n",
    "\n",
    "def extract_text(doc_path):\n",
    "    \"\"\"提取 Word 文档中的纯净文本\"\"\"\n",
    "    doc = Document(doc_path)\n",
    "    lines = [p.text.strip() for p in doc.paragraphs if p.text.strip()]\n",
    "    return \"\\n\".join(lines)\n",
    "\n",
    "doc_content = extract_text(\"AT_Commands.docx\")\n",
    "print(doc_content[:500])  # 预览前500字符"
   ]
  },
  {
   "cell_type": "code",
   "execution_count": 3,
   "id": "204d6aef",
   "metadata": {},
   "outputs": [],
   "source": [
    "import re\n",
    "\n",
    "COMMAND_PATTERN = r'^(AT[\\+\\w]+)[:：]\\s*(.*)'  # 命令 + 描述\n",
    "PARAM_PATTERN = r'<([^>]+)>\\s*(.*)'            # 参数\n",
    "\n",
    "def parse_commands(text):\n",
    "    \"\"\"从文档内容中提取 AT 命令结构化信息\"\"\"\n",
    "    lines = text.splitlines()\n",
    "    commands, current = [], None\n",
    "    section = None\n",
    "\n",
    "    for line in lines:\n",
    "        # 检测命令开始\n",
    "        cmd_match = re.match(COMMAND_PATTERN, line)\n",
    "        if cmd_match:\n",
    "            if current:\n",
    "                commands.append(current)\n",
    "            current = {\n",
    "                \"command\": cmd_match.group(1),\n",
    "                \"description\": cmd_match.group(2).strip(),\n",
    "                \"format\": \"\",\n",
    "                \"parameters\": [],\n",
    "                \"examples\": []\n",
    "            }\n",
    "            section = None\n",
    "            continue\n",
    "\n",
    "        if not current:\n",
    "            continue\n",
    "\n",
    "        # 检测小节\n",
    "        if line.startswith(\"命令格式\"):\n",
    "            section = \"format\"\n",
    "            continue\n",
    "        elif line.startswith(\"参数\"):\n",
    "            section = \"parameters\"\n",
    "            continue\n",
    "        elif line.startswith(\"示例\"):\n",
    "            section = \"examples\"\n",
    "            continue\n",
    "\n",
    "        # 收集内容\n",
    "        if section == \"format\":\n",
    "            current[\"format\"] += line + \" \"\n",
    "        elif section == \"parameters\":\n",
    "            param_match = re.match(PARAM_PATTERN, line)\n",
    "            if param_match:\n",
    "                current[\"parameters\"].append({\n",
    "                    \"name\": param_match.group(1),\n",
    "                    \"desc\": param_match.group(2)\n",
    "                })\n",
    "        elif section == \"examples\":\n",
    "            current[\"examples\"].append(line)\n",
    "\n",
    "    if current:\n",
    "        commands.append(current)\n",
    "    return commands"
   ]
  },
  {
   "cell_type": "code",
   "execution_count": 4,
   "id": "285e55b9",
   "metadata": {},
   "outputs": [],
   "source": [
    "def clean_commands(commands):\n",
    "    for cmd in commands:\n",
    "        cmd[\"format\"] = cmd[\"format\"].strip()\n",
    "        cmd[\"examples\"] = [ex.strip() for ex in cmd[\"examples\"] if ex.strip()]\n",
    "    return commands"
   ]
  },
  {
   "cell_type": "code",
   "execution_count": 5,
   "id": "75974a89",
   "metadata": {},
   "outputs": [],
   "source": [
    "import pandas as pd\n",
    "\n",
    "def export_csv(commands, path=\"at_commands.csv\"):\n",
    "    rows = []\n",
    "    for cmd in commands:\n",
    "        rows.append({\n",
    "            \"command\": cmd[\"command\"],\n",
    "            \"description\": cmd[\"description\"],\n",
    "            \"format\": cmd[\"format\"],\n",
    "            \"parameters\": \"; \".join([f\"{p['name']}:{p['desc']}\" for p in cmd[\"parameters\"]]),\n",
    "            \"examples\": \"; \".join(cmd[\"examples\"])\n",
    "        })\n",
    "    df = pd.DataFrame(rows)\n",
    "    df.to_csv(path, index=False, encoding=\"utf-8-sig\")\n",
    "    return df\n"
   ]
  },
  {
   "cell_type": "code",
   "execution_count": 6,
   "id": "20250b38",
   "metadata": {},
   "outputs": [],
   "source": [
    "import yaml\n",
    "\n",
    "def export_yaml(commands, path=\"at_commands.yaml\"):\n",
    "    with open(path, \"w\", encoding=\"utf-8\") as f:\n",
    "        yaml.dump({\"at_commands\": commands}, f, allow_unicode=True, sort_keys=False)"
   ]
  },
  {
   "cell_type": "code",
   "execution_count": 7,
   "id": "b18b04f4",
   "metadata": {},
   "outputs": [],
   "source": [
    "def validate(commands):\n",
    "    issues = []\n",
    "    seen = set()\n",
    "    for cmd in commands:\n",
    "        if not cmd[\"description\"]:\n",
    "            issues.append(f\"{cmd['command']} 缺少描述\")\n",
    "        if cmd[\"command\"] in seen:\n",
    "            issues.append(f\"{cmd['command']} 出现重复\")\n",
    "        seen.add(cmd[\"command\"])\n",
    "    return issues\n"
   ]
  },
  {
   "cell_type": "code",
   "execution_count": 8,
   "id": "e9fec562",
   "metadata": {},
   "outputs": [
    {
     "name": "stdout",
     "output_type": "stream",
     "text": [
      "发现问题: []\n"
     ]
    }
   ],
   "source": [
    "doc_content = extract_text(\"AT_Commands.docx\")\n",
    "commands = parse_commands(doc_content)\n",
    "commands = clean_commands(commands)\n",
    "\n",
    "# 导出\n",
    "df = export_csv(commands, \"at_commands.csv\")\n",
    "export_yaml(commands, \"at_commands.yaml\")\n",
    "\n",
    "# 验证\n",
    "issues = validate(commands)\n",
    "print(\"发现问题:\", issues)\n"
   ]
  }
 ],
 "metadata": {
  "kernelspec": {
   "display_name": ".venv",
   "language": "python",
   "name": "python3"
  },
  "language_info": {
   "codemirror_mode": {
    "name": "ipython",
    "version": 3
   },
   "file_extension": ".py",
   "mimetype": "text/x-python",
   "name": "python",
   "nbconvert_exporter": "python",
   "pygments_lexer": "ipython3",
   "version": "3.13.7"
  }
 },
 "nbformat": 4,
 "nbformat_minor": 5
}

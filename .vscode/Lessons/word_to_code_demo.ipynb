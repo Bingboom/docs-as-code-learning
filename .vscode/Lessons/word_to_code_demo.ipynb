{
 "cells": [
  {
   "cell_type": "markdown",
   "metadata": {},
   "source": [
    "# 📘 Word 文档 → 文档代码化写作 Demo\n",
    "本 Notebook 演示如何将 Word 文档内容结构化，并用代码自动生成文档。"
   ]
  },
  {
   "cell_type": "code",
   "execution_count": 1,
   "metadata": {},
   "outputs": [
    {
     "name": "stdout",
     "output_type": "stream",
     "text": [
      "Collecting pyyaml\n",
      "  Downloading pyyaml-6.0.3-cp313-cp313-win_amd64.whl.metadata (2.4 kB)\n",
      "Collecting jinja2\n",
      "  Using cached jinja2-3.1.6-py3-none-any.whl.metadata (2.9 kB)\n",
      "Collecting MarkupSafe>=2.0 (from jinja2)\n",
      "  Downloading markupsafe-3.0.3-cp313-cp313-win_amd64.whl.metadata (2.8 kB)\n",
      "Downloading pyyaml-6.0.3-cp313-cp313-win_amd64.whl (154 kB)\n",
      "Using cached jinja2-3.1.6-py3-none-any.whl (134 kB)\n",
      "Downloading markupsafe-3.0.3-cp313-cp313-win_amd64.whl (15 kB)\n",
      "Installing collected packages: pyyaml, MarkupSafe, jinja2\n",
      "\n",
      "   ---------------------------------------- 0/3 [pyyaml]\n",
      "   -------------------------- ------------- 2/3 [jinja2]\n",
      "   -------------------------- ------------- 2/3 [jinja2]\n",
      "   ---------------------------------------- 3/3 [jinja2]\n",
      "\n",
      "Successfully installed MarkupSafe-3.0.3 jinja2-3.1.6 pyyaml-6.0.3\n"
     ]
    }
   ],
   "source": [
    "# 安装依赖（首次运行时需要）\n",
    "!pip install pyyaml jinja2"
   ]
  },
  {
   "cell_type": "markdown",
   "metadata": {},
   "source": [
    "## 第一步：准备数据 (products.yaml)\n",
    "在传统 Word 文档里，你可能直接写：\n",
    "```\n",
    "N706B 模块 AT 指令手册\n",
    "波特率：115200\n",
    "命令：AT+CSQ → 查询信号强度\n",
    "```\n",
    "现在我们把它转成结构化数据：\n",
    "\n",
    "这段代码**使用了 Python 的 PyYAML 库来创建并读取一个 YAML 格式的配置文件，目的是将嵌套的、易读的文本内容转化为程序容易处理的结构化数据**（如 Python 中的字典和列表）。<\"隐性知识显性化\">\n",
    "\n",
    "举个具体场景：若 N706B 模块新增 10 条 AT 命令，结构化方案只需在 YAML 中追加 10 个 commands 条目，Sphinx 会自动更新文档的目录、索引和交叉引用；而 Word 方案需要手动修改多个章节，还可能遗漏格式一致性。\n",
    "\n",
    "预处理过程：\n",
    "如果 Word 内容体量很大（比如数百条命令），完全手动转 YAML 确实低效，可考虑中间过渡方案：\n",
    "Word → 表格 → YAML   “借助多维表格去维护”\n",
    "先在 Word 中将命令按\"产品型号/命令名称/描述/示例\"整理成规范表格\n",
    "导出为 CSV，再用 Python 脚本批量转换为 YAML（示例代码片段）：\n",
    "\n",
    "import pandas as pd\n",
    "df = pd.read_csv(\"commands.csv\")\n",
    "yaml_data = {\"products\": df.to_dict(\"records\")}  # 自动转为字典结构"
   ]
  },
  {
   "cell_type": "code",
   "execution_count": 2,
   "metadata": {},
   "outputs": [
    {
     "data": {
      "text/plain": [
       "{'products': [{'name': 'N706B',\n",
       "   'version': 'V1.0',\n",
       "   'baud_rate': 115200,\n",
       "   'commands': [{'cmd': 'AT+CSQ', 'desc': '查询信号强度', 'example': '+CSQ: 25,0'}]},\n",
       "  {'name': 'N58-GL',\n",
       "   'version': 'V2.0',\n",
       "   'baud_rate': 921600,\n",
       "   'commands': [{'cmd': 'AT+CGATT', 'desc': '网络附着', 'example': '+CGATT: 1'}]}]}"
      ]
     },
     "execution_count": 2,
     "metadata": {},
     "output_type": "execute_result"
    }
   ],
   "source": [
    "import yaml\n",
    "\n",
    "yaml_content = \"\"\"\n",
    "products:\n",
    "  - name: N706B\n",
    "    version: V1.0\n",
    "    baud_rate: 115200\n",
    "    commands:\n",
    "      - cmd: AT+CSQ\n",
    "        desc: 查询信号强度\n",
    "        example: \"+CSQ: 25,0\"\n",
    "  - name: N58-GL\n",
    "    version: V2.0\n",
    "    baud_rate: 921600\n",
    "    commands:\n",
    "      - cmd: AT+CGATT\n",
    "        desc: 网络附着\n",
    "        example: \"+CGATT: 1\"\n",
    "\"\"\"\n",
    "\n",
    "with open(\"products.yaml\", \"w\", encoding=\"utf-8\") as f:\n",
    "    f.write(yaml_content)\n",
    "\n",
    "data = yaml.safe_load(yaml_content)\n",
    "data"
   ]
  },
  {
   "cell_type": "markdown",
   "metadata": {},
   "source": [
    "## 第二步：准备模板\n",
    "用 Jinja2 模板定义文档的结构，而不是直接在 Word 里排版。"
   ]
  },
  {
   "cell_type": "code",
   "execution_count": 3,
   "metadata": {},
   "outputs": [],
   "source": [
    "from jinja2 import Template\n",
    "\n",
    "template_str = \"\"\"\n",
    "{{ name }} 模块 AT 指令手册 (版本 {{ version }})\n",
    "========================================\n",
    "\n",
    "基础信息\n",
    "--------\n",
    "* 型号: {{ name }}\n",
    "* 波特率: {{ baud_rate }}\n",
    "\n",
    "支持命令\n",
    "--------\n",
    "| 指令   | 功能描述       | 示例响应 |\n",
    "|--------|----------------|----------|\n",
    "{% for c in commands %}| {{ c.cmd }} | {{ c.desc }} | {{ c.example }} |\n",
    "{% endfor %}\n",
    "\"\"\"\n",
    "\n",
    "template = Template(template_str)"
   ]
  },
  {
   "cell_type": "markdown",
   "metadata": {},
   "source": [
    "## 第三步：生成文档\n",
    "循环读取 YAML 数据，用模板渲染输出 Markdown 文本。"
   ]
  },
  {
   "cell_type": "code",
   "execution_count": 4,
   "metadata": {},
   "outputs": [
    {
     "name": "stdout",
     "output_type": "stream",
     "text": [
      "生成文档: N706B_manual.md\n",
      "\n",
      "\n",
      "N706B 模块 AT 指令手册 (版本 V1.0)\n",
      "========================================\n",
      "\n",
      "基础信息\n",
      "--------\n",
      "* 型号: N706B\n",
      "* 波特率: 115200\n",
      "\n",
      "支持命令\n",
      "--------\n",
      "| 指令   | 功能描述       | 示例响应 |\n",
      "|--------|----------------|----------|\n",
      "| AT+CSQ | 查询信号强度 | +CSQ: 25,0 |\n",
      "\n",
      "----------------------------------------\n",
      "生成文档: N58-GL_manual.md\n",
      "\n",
      "\n",
      "N58-GL 模块 AT 指令手册 (版本 V2.0)\n",
      "========================================\n",
      "\n",
      "基础信息\n",
      "--------\n",
      "* 型号: N58-GL\n",
      "* 波特率: 921600\n",
      "\n",
      "支持命令\n",
      "--------\n",
      "| 指令   | 功能描述       | 示例响应 |\n",
      "|--------|----------------|----------|\n",
      "| AT+CGATT | 网络附着 | +CGATT: 1 |\n",
      "\n",
      "----------------------------------------\n"
     ]
    }
   ],
   "source": [
    "for product in data[\"products\"]:\n",
    "    output = template.render(**product)\n",
    "    filename = f\"{product['name']}_manual.md\"\n",
    "    with open(filename, \"w\", encoding=\"utf-8\") as f:\n",
    "        f.write(output)\n",
    "    print(f\"生成文档: {filename}\\n\")\n",
    "    print(output)\n",
    "    print(\"-\"*40)"
   ]
  },
  {
   "cell_type": "markdown",
   "metadata": {},
   "source": [
    "## 第四步：下一步拓展\n",
    "- 现在生成的文档是 Markdown (`.md`)，可以用 Pandoc 转 PDF：\n",
    "  ```bash\n",
    "  pandoc N706B_manual.md -o N706B_manual.pdf\n",
    "  ```\n",
    "- 也可以用 Sphinx/DITA-OT 来生成 HTML 和 PDF。\n",
    "- 这就是 **结构化编程 + 文档代码化** 的最小实践。"
   ]
  }
 ],
 "metadata": {
  "kernelspec": {
   "display_name": ".venv",
   "language": "python",
   "name": "python3"
  },
  "language_info": {
   "codemirror_mode": {
    "name": "ipython",
    "version": 3
   },
   "file_extension": ".py",
   "mimetype": "text/x-python",
   "name": "python",
   "nbconvert_exporter": "python",
   "pygments_lexer": "ipython3",
   "version": "3.13.7"
  }
 },
 "nbformat": 4,
 "nbformat_minor": 5
}
